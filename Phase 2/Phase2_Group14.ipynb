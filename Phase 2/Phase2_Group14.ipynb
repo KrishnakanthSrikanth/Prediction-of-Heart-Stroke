{
 "cells": [
  {
   "cell_type": "markdown",
   "id": "97648608",
   "metadata": {},
   "source": [
    "# Prediction of Heart stroke\n",
    "## Phase 2: Predictive modeling"
   ]
  },
  {
   "cell_type": "markdown",
   "id": "2747bb8e",
   "metadata": {},
   "source": [
    "#### Group Name: Group 14\n",
    "\n",
    "#### Name(s) & ID(s) of Group Members: \n",
    "- **Aarthi Vijayakumar(s3958151)**\n",
    "- **Krishnakanth Srikanth(s3959200)**\n",
    "- **Antony Rosario John Peter (s3940203)**"
   ]
  },
  {
   "cell_type": "markdown",
   "id": "44c4bb78",
   "metadata": {},
   "source": [
    "## Table of Contents\n",
    "* [Introduction](#intro) \n",
    "  + [Phase 1 Summary](#phase1-summary)\n",
    "  + [Report Overview](#report-overview)\n",
    "  + [Overview of Methodology](#methodology-overview)\n",
    "* [Predictive Modeling](#predictive-modeling)\n",
    "  + [Feature Selection (FS)](#FS)\n",
    "  + [Random Forest Classifier](#rfc)\n",
    "      + [Model Fitting & Tuning](#rfc-fitting-tuning)\n",
    "  + [Gaussian Naive Bayes](#gnb)\n",
    "      + [Model Fitting & Tuning](#gnb-fitting-tuning)\n",
    "  + [Support Vector Machine](#svm)\n",
    "      + [Model Fitting & Tuning](#svm-fitting-tuning)\n",
    "  + [K-Nearest Neighbor Classifier](#knn)\n",
    "      + [Model Fitting & Tuning](#knn-fitting-tuning)\n",
    "  + [Decision Tree Classifier](#dt)\n",
    "      + [Model Fitting & Tuning](#dt-fitting-tuning)\n",
    "  + [Neural Network Model](#NN)\n",
    "      + [Model Fitting & Tuning](#NN-fitting-tuning)\n",
    "  + [Model Comparison](#model-comparison)\n",
    "* [Critique & Limitations](#limitations)\n",
    "* [Summary & Conclusions](#Summary-and-Conclusion)\n",
    "   + [Project Summary](#project-summary)\n",
    "   + [Summary of Findings](#summary-findings)\n",
    "   + [Conclusions](#conclusions)\n",
    "* [References](#References)"
   ]
  },
  {
   "cell_type": "markdown",
   "id": "34541cbd",
   "metadata": {},
   "source": [
    "## Introduction <a id='intro'></a>"
   ]
  },
  {
   "cell_type": "markdown",
   "id": "42100cc2",
   "metadata": {},
   "source": [
    "### Phase 1 Summary <a id='phase1-summary'></a>"
   ]
  },
  {
   "cell_type": "markdown",
   "id": "816b4d25",
   "metadata": {},
   "source": [
    "As part of phase 1, We had taken a public dataset about heart disease, which had clinical features and risk factors of various patients that contributed to causing a heart problem in a person. The dataset had a total of 16 features and 4238 observations. As part of data preprocessing, we have made type conversions for the features 'cigsPerDay', and 'BPMeds'. We also imputed values for the columns 'education', 'cigsPerDay', 'BPMeds', 'totChol', 'BMI', 'heartRate', and 'glucose' which had missing values. Once the data has been pre-processed, we explored the data by visualizing them as uni-variate, bi-variate and multi-variate combinations which helped us to understand how the features were correlated. The preprocessed data from the phase 1 will be used in this analysis to attain our primary objective of classifying the target variable **'Heart_stroke'** based on the remaining descriptive features."
   ]
  },
  {
   "cell_type": "markdown",
   "id": "8ad881c5",
   "metadata": {},
   "source": [
    "### Report Overview <a id='report-overview'></a>"
   ]
  },
  {
   "cell_type": "markdown",
   "id": "ad243f54",
   "metadata": {},
   "source": [
    "This project is a continuation of phase 1 report and as part of this we have tried to predict the probability an individual is affected by Heart stroke by using the given descriptive features. In this, we have performed **One-Hot encoding** on all the categorical features . The data, for a Machine Learning model has to be in same scale, because of which we have scaled the data using **MinMaxScaler()** so that the ML model interprets the features on the same scale. After scaling the features, we split the data into training and testing sets using **train_test_split** in **80:20** ratio.\n",
    "\n",
    "Once after we split the data into test and train sets, we perform **Feature Selection** using **Random Forest Importance** and select the top 10 features that helps us to answer our problem. We also plot the top 10 features obtained from RFI using bar plot. We also create a custom function for this feature selection to use it in our algorithms as a step in the pipeline. we will be using 5 classification algorithms which will be explained further in the following sections to achieve our project's goal.\n",
    "\n",
    "We also have created models using **Neural Network** and tuned the parameters for the same and interpreted the results obtained. \n",
    "\n",
    "Furthermore, the created classification models are compared using **Paired t-test** to find out which model is statistically significant. Along with this, we calculate the accuracy and other performance evaluation metrics and classification reports from which we come to a conclusion saying which model performs the best to our problem. \n",
    "\n",
    "Finally, the summary of this project along with its findings and limitations are listed out."
   ]
  },
  {
   "cell_type": "markdown",
   "id": "90b1b590",
   "metadata": {},
   "source": [
    "### Overview of Methodology <a id='methodology-overview'></a>"
   ]
  },
  {
   "cell_type": "markdown",
   "id": "4e5411f0",
   "metadata": {},
   "source": [
    "As part of this phase 2 analysis, to predict the target feature we have performed the predictive modeling using the below classifier algorithms.\n",
    "\n",
    "1. Random Forest Classifier \n",
    "2. Gaussian Naive Bayes \n",
    "3. Support Vector Machine  \n",
    "4. K-Nearest Neighbor Classifier\n",
    "5. Decision Tree Classifier\n",
    "        \n",
    "As part of our modeling process, initially, we completed the transformation of the data obtained from our phase 1. This includes transforming the categorical features into numerical features with the help of one-hot encoding and also scaling all the other descriptive features in the data. After this, we split the data into training and test set in a ratio of **80:20**. This way our total data with **4136 observations** from phase 1 has been split into **3308 rows of training set** and **828 rows of test set**.  \n",
    "\n",
    "Before performing predictive modeling based on a particular classifier on the training dataset, we select the best features using the powerful **Random Forest Importance method** inside a pipeline. Based on this approach, we select the best 10 features to perform the modeling on all the 5 classifiers. This feature selection along with the hyper-parameters are created as a single pipeline, on which we perform **5-fold stratified cross-validation** to fine tune the parameters for each individual classifiers based on **accuracy** as the performance metric. As our target feature 'Heart_stroke' has more number of people who did not experience it (i.e.,) it has more number of negative class samples, hence **unbalanced**. To mitigate this, stratification has been crucial to ensure that each of our validation set has the same ratio of classes similar to the original dataset. We also evaluated the sensitivity of each model based on the hyper-parameters used.\n",
    "\n",
    "Tuned classifiers are created with the help of **GridSearchCV and RandomizedSearchCV** by identifying the best set of hyper parameters for each classifiers based on our training data. This way we obtained 5 different tuned classifiers for each algorithm. After this, the classifiers are fit into our test data by implementing **10-fold cross validation**, on which we performed the **paired t-test** to evaluate if the difference in the performance of these classifiers are statistically significant. Along with the accuracy score we also evaluate the model based on their area under curve(AUC) and precision, recall, F1-score that are derived from their confusion matrix and classification report.\n",
    "\n",
    "We also performed **Neural Network analysis** on our data and evaluated the performance of the model by tuning the parameters which has been detailed out in the later part of this report."
   ]
  },
  {
   "cell_type": "markdown",
   "id": "39ee5bda",
   "metadata": {},
   "source": [
    "## Predictive Modeling <a id='predictive-modeling'></a>"
   ]
  },
  {
   "cell_type": "markdown",
   "id": "30dbe62a",
   "metadata": {},
   "source": [
    "The main objective of this project is to fit and compare five different classification models to predict the probability an individual is affected by Heart stroke using the given descriptive features and their influence for the same using the data sourced from the Kaggle (Mirza_Hasnine, 2023). The descriptive features include 12 numeric and 3 categorical features. The target feature has two classes defined as \"Yes\" and \"No\" respectively."
   ]
  },
  {
   "cell_type": "code",
   "execution_count": 1,
   "id": "25ce0807",
   "metadata": {},
   "outputs": [],
   "source": [
    "# Importing libraries\n",
    "import warnings\n",
    "warnings.filterwarnings(\"ignore\") # To ignore warnings\n",
    "import pandas as pd\n",
    "pd.set_option('display.max_columns', None) # Display all columns\n",
    "import numpy as np\n",
    "import matplotlib.pyplot as plt\n",
    "%matplotlib inline \n",
    "%config InlineBackend.figure_format = 'retina'\n",
    "plt.style.use(\"ggplot\")\n",
    "import seaborn as sns\n",
    "from sklearn import preprocessing\n",
    "from sklearn.ensemble import RandomForestClassifier\n",
    "from sklearn.model_selection import train_test_split\n",
    "from sklearn.model_selection import StratifiedKFold, GridSearchCV\n",
    "from sklearn.base import BaseEstimator, TransformerMixin\n",
    "from sklearn.pipeline import Pipeline\n",
    "from sklearn.neighbors import KNeighborsClassifier\n",
    "from sklearn.preprocessing import PowerTransformer\n",
    "from sklearn.naive_bayes import GaussianNB\n",
    "from sklearn.model_selection import RandomizedSearchCV\n",
    "from sklearn.tree import DecisionTreeClassifier\n",
    "from sklearn.svm import SVC\n",
    "from sklearn.model_selection import cross_val_score\n",
    "from sklearn import metrics\n",
    "import keras\n",
    "import tensorflow as tf"
   ]
  },
  {
   "cell_type": "code",
   "execution_count": 2,
   "id": "6df9f3b5",
   "metadata": {},
   "outputs": [],
   "source": [
    "# Importing dataset\n",
    "phase2 = pd.read_csv('Phase2_Group14.csv')"
   ]
  },
  {
   "cell_type": "code",
   "execution_count": 3,
   "id": "79282090",
   "metadata": {},
   "outputs": [
    {
     "data": {
      "text/html": [
       "<div>\n",
       "<style scoped>\n",
       "    .dataframe tbody tr th:only-of-type {\n",
       "        vertical-align: middle;\n",
       "    }\n",
       "\n",
       "    .dataframe tbody tr th {\n",
       "        vertical-align: top;\n",
       "    }\n",
       "\n",
       "    .dataframe thead th {\n",
       "        text-align: right;\n",
       "    }\n",
       "</style>\n",
       "<table border=\"1\" class=\"dataframe\">\n",
       "  <thead>\n",
       "    <tr style=\"text-align: right;\">\n",
       "      <th></th>\n",
       "      <th>Gender</th>\n",
       "      <th>age</th>\n",
       "      <th>education</th>\n",
       "      <th>currentSmoker</th>\n",
       "      <th>cigsPerDay</th>\n",
       "      <th>BPMeds</th>\n",
       "      <th>prevalentStroke</th>\n",
       "      <th>prevalentHyp</th>\n",
       "      <th>diabetes</th>\n",
       "      <th>totChol</th>\n",
       "      <th>sysBP</th>\n",
       "      <th>diaBP</th>\n",
       "      <th>BMI</th>\n",
       "      <th>heartRate</th>\n",
       "      <th>glucose</th>\n",
       "      <th>Heart_stroke</th>\n",
       "    </tr>\n",
       "  </thead>\n",
       "  <tbody>\n",
       "    <tr>\n",
       "      <th>1009</th>\n",
       "      <td>Male</td>\n",
       "      <td>63</td>\n",
       "      <td>uneducated</td>\n",
       "      <td>1</td>\n",
       "      <td>10</td>\n",
       "      <td>0</td>\n",
       "      <td>no</td>\n",
       "      <td>0</td>\n",
       "      <td>0</td>\n",
       "      <td>271.0</td>\n",
       "      <td>131.0</td>\n",
       "      <td>73.5</td>\n",
       "      <td>30.12</td>\n",
       "      <td>72.0</td>\n",
       "      <td>107.000000</td>\n",
       "      <td>yes</td>\n",
       "    </tr>\n",
       "    <tr>\n",
       "      <th>387</th>\n",
       "      <td>Female</td>\n",
       "      <td>47</td>\n",
       "      <td>primaryschool</td>\n",
       "      <td>1</td>\n",
       "      <td>3</td>\n",
       "      <td>0</td>\n",
       "      <td>no</td>\n",
       "      <td>0</td>\n",
       "      <td>0</td>\n",
       "      <td>155.0</td>\n",
       "      <td>122.5</td>\n",
       "      <td>77.5</td>\n",
       "      <td>21.34</td>\n",
       "      <td>65.0</td>\n",
       "      <td>78.000000</td>\n",
       "      <td>No</td>\n",
       "    </tr>\n",
       "    <tr>\n",
       "      <th>2679</th>\n",
       "      <td>Female</td>\n",
       "      <td>64</td>\n",
       "      <td>uneducated</td>\n",
       "      <td>0</td>\n",
       "      <td>0</td>\n",
       "      <td>0</td>\n",
       "      <td>no</td>\n",
       "      <td>0</td>\n",
       "      <td>0</td>\n",
       "      <td>305.0</td>\n",
       "      <td>126.5</td>\n",
       "      <td>67.0</td>\n",
       "      <td>25.77</td>\n",
       "      <td>67.0</td>\n",
       "      <td>66.000000</td>\n",
       "      <td>yes</td>\n",
       "    </tr>\n",
       "    <tr>\n",
       "      <th>1247</th>\n",
       "      <td>Male</td>\n",
       "      <td>45</td>\n",
       "      <td>uneducated</td>\n",
       "      <td>0</td>\n",
       "      <td>0</td>\n",
       "      <td>0</td>\n",
       "      <td>no</td>\n",
       "      <td>1</td>\n",
       "      <td>0</td>\n",
       "      <td>218.0</td>\n",
       "      <td>128.0</td>\n",
       "      <td>90.0</td>\n",
       "      <td>32.15</td>\n",
       "      <td>80.0</td>\n",
       "      <td>77.000000</td>\n",
       "      <td>No</td>\n",
       "    </tr>\n",
       "    <tr>\n",
       "      <th>122</th>\n",
       "      <td>Male</td>\n",
       "      <td>41</td>\n",
       "      <td>primaryschool</td>\n",
       "      <td>0</td>\n",
       "      <td>0</td>\n",
       "      <td>0</td>\n",
       "      <td>no</td>\n",
       "      <td>0</td>\n",
       "      <td>0</td>\n",
       "      <td>223.0</td>\n",
       "      <td>112.5</td>\n",
       "      <td>80.0</td>\n",
       "      <td>29.44</td>\n",
       "      <td>75.0</td>\n",
       "      <td>58.000000</td>\n",
       "      <td>No</td>\n",
       "    </tr>\n",
       "    <tr>\n",
       "      <th>3071</th>\n",
       "      <td>Female</td>\n",
       "      <td>50</td>\n",
       "      <td>graduate</td>\n",
       "      <td>0</td>\n",
       "      <td>0</td>\n",
       "      <td>0</td>\n",
       "      <td>no</td>\n",
       "      <td>1</td>\n",
       "      <td>0</td>\n",
       "      <td>305.0</td>\n",
       "      <td>151.0</td>\n",
       "      <td>106.5</td>\n",
       "      <td>25.38</td>\n",
       "      <td>100.0</td>\n",
       "      <td>75.000000</td>\n",
       "      <td>No</td>\n",
       "    </tr>\n",
       "    <tr>\n",
       "      <th>967</th>\n",
       "      <td>Female</td>\n",
       "      <td>40</td>\n",
       "      <td>uneducated</td>\n",
       "      <td>0</td>\n",
       "      <td>0</td>\n",
       "      <td>0</td>\n",
       "      <td>no</td>\n",
       "      <td>0</td>\n",
       "      <td>0</td>\n",
       "      <td>340.0</td>\n",
       "      <td>149.0</td>\n",
       "      <td>81.0</td>\n",
       "      <td>28.46</td>\n",
       "      <td>110.0</td>\n",
       "      <td>99.000000</td>\n",
       "      <td>No</td>\n",
       "    </tr>\n",
       "    <tr>\n",
       "      <th>252</th>\n",
       "      <td>Female</td>\n",
       "      <td>60</td>\n",
       "      <td>uneducated</td>\n",
       "      <td>0</td>\n",
       "      <td>0</td>\n",
       "      <td>0</td>\n",
       "      <td>no</td>\n",
       "      <td>1</td>\n",
       "      <td>0</td>\n",
       "      <td>352.0</td>\n",
       "      <td>197.5</td>\n",
       "      <td>105.0</td>\n",
       "      <td>36.29</td>\n",
       "      <td>75.0</td>\n",
       "      <td>95.000000</td>\n",
       "      <td>yes</td>\n",
       "    </tr>\n",
       "    <tr>\n",
       "      <th>4069</th>\n",
       "      <td>Female</td>\n",
       "      <td>41</td>\n",
       "      <td>primaryschool</td>\n",
       "      <td>1</td>\n",
       "      <td>5</td>\n",
       "      <td>0</td>\n",
       "      <td>no</td>\n",
       "      <td>0</td>\n",
       "      <td>0</td>\n",
       "      <td>205.0</td>\n",
       "      <td>105.0</td>\n",
       "      <td>74.0</td>\n",
       "      <td>20.85</td>\n",
       "      <td>87.0</td>\n",
       "      <td>81.903698</td>\n",
       "      <td>No</td>\n",
       "    </tr>\n",
       "    <tr>\n",
       "      <th>2132</th>\n",
       "      <td>Male</td>\n",
       "      <td>44</td>\n",
       "      <td>primaryschool</td>\n",
       "      <td>1</td>\n",
       "      <td>30</td>\n",
       "      <td>0</td>\n",
       "      <td>no</td>\n",
       "      <td>0</td>\n",
       "      <td>0</td>\n",
       "      <td>339.0</td>\n",
       "      <td>97.0</td>\n",
       "      <td>62.0</td>\n",
       "      <td>22.19</td>\n",
       "      <td>90.0</td>\n",
       "      <td>85.000000</td>\n",
       "      <td>No</td>\n",
       "    </tr>\n",
       "  </tbody>\n",
       "</table>\n",
       "</div>"
      ],
      "text/plain": [
       "      Gender  age      education  currentSmoker  cigsPerDay  BPMeds  \\\n",
       "1009    Male   63     uneducated              1          10       0   \n",
       "387   Female   47  primaryschool              1           3       0   \n",
       "2679  Female   64     uneducated              0           0       0   \n",
       "1247    Male   45     uneducated              0           0       0   \n",
       "122     Male   41  primaryschool              0           0       0   \n",
       "3071  Female   50       graduate              0           0       0   \n",
       "967   Female   40     uneducated              0           0       0   \n",
       "252   Female   60     uneducated              0           0       0   \n",
       "4069  Female   41  primaryschool              1           5       0   \n",
       "2132    Male   44  primaryschool              1          30       0   \n",
       "\n",
       "     prevalentStroke  prevalentHyp  diabetes  totChol  sysBP  diaBP    BMI  \\\n",
       "1009              no             0         0    271.0  131.0   73.5  30.12   \n",
       "387               no             0         0    155.0  122.5   77.5  21.34   \n",
       "2679              no             0         0    305.0  126.5   67.0  25.77   \n",
       "1247              no             1         0    218.0  128.0   90.0  32.15   \n",
       "122               no             0         0    223.0  112.5   80.0  29.44   \n",
       "3071              no             1         0    305.0  151.0  106.5  25.38   \n",
       "967               no             0         0    340.0  149.0   81.0  28.46   \n",
       "252               no             1         0    352.0  197.5  105.0  36.29   \n",
       "4069              no             0         0    205.0  105.0   74.0  20.85   \n",
       "2132              no             0         0    339.0   97.0   62.0  22.19   \n",
       "\n",
       "      heartRate     glucose Heart_stroke  \n",
       "1009       72.0  107.000000          yes  \n",
       "387        65.0   78.000000           No  \n",
       "2679       67.0   66.000000          yes  \n",
       "1247       80.0   77.000000           No  \n",
       "122        75.0   58.000000           No  \n",
       "3071      100.0   75.000000           No  \n",
       "967       110.0   99.000000           No  \n",
       "252        75.0   95.000000          yes  \n",
       "4069       87.0   81.903698           No  \n",
       "2132       90.0   85.000000           No  "
      ]
     },
     "execution_count": 3,
     "metadata": {},
     "output_type": "execute_result"
    }
   ],
   "source": [
    "# Sampling the dataset to display 10 rows \n",
    "phase2.sample(n=10,random_state=25)"
   ]
  },
  {
   "cell_type": "code",
   "execution_count": 4,
   "id": "92f3cf3d",
   "metadata": {},
   "outputs": [
    {
     "name": "stdout",
     "output_type": "stream",
     "text": [
      "Gender: 2\n",
      "age: 39\n",
      "education: 4\n",
      "currentSmoker: 2\n",
      "cigsPerDay: 33\n",
      "BPMeds: 2\n",
      "prevalentStroke: 2\n",
      "prevalentHyp: 2\n",
      "diabetes: 2\n",
      "totChol: 246\n",
      "sysBP: 232\n",
      "diaBP: 145\n",
      "BMI: 1355\n",
      "heartRate: 73\n",
      "glucose: 142\n",
      "Heart_stroke: 2\n"
     ]
    }
   ],
   "source": [
    "# Check unique values for each feature\n",
    "for col in phase2.columns:\n",
    "    print(f'{col}: {phase2[col].nunique()}')"
   ]
  },
  {
   "cell_type": "code",
   "execution_count": 5,
   "id": "9db4579d",
   "metadata": {},
   "outputs": [
    {
     "data": {
      "text/plain": [
       "Gender              object\n",
       "age                  int64\n",
       "education           object\n",
       "currentSmoker        int64\n",
       "cigsPerDay           int64\n",
       "BPMeds               int64\n",
       "prevalentStroke     object\n",
       "prevalentHyp         int64\n",
       "diabetes             int64\n",
       "totChol            float64\n",
       "sysBP              float64\n",
       "diaBP              float64\n",
       "BMI                float64\n",
       "heartRate          float64\n",
       "glucose            float64\n",
       "Heart_stroke        object\n",
       "dtype: object"
      ]
     },
     "execution_count": 5,
     "metadata": {},
     "output_type": "execute_result"
    }
   ],
   "source": [
    "# Checking datatype\n",
    "phase2.dtypes"
   ]
  },
  {
   "cell_type": "code",
   "execution_count": 6,
   "id": "edf270e6",
   "metadata": {},
   "outputs": [
    {
     "data": {
      "text/plain": [
       "['Gender', 'education', 'prevalentStroke', 'Heart_stroke']"
      ]
     },
     "execution_count": 6,
     "metadata": {},
     "output_type": "execute_result"
    }
   ],
   "source": [
    "# Grouping all the categorical features\n",
    "cat_cols = phase2.columns[phase2.dtypes==object].tolist()\n",
    "cat_cols"
   ]
  },
  {
   "cell_type": "code",
   "execution_count": 7,
   "id": "8323ba88",
   "metadata": {},
   "outputs": [],
   "source": [
    "# Making a copy of original dataset\n",
    "phase2_copy = phase2.copy()"
   ]
  },
  {
   "cell_type": "markdown",
   "id": "04ebe7ce",
   "metadata": {},
   "source": [
    "#### Data Transformation"
   ]
  },
  {
   "cell_type": "markdown",
   "id": "508fff85",
   "metadata": {},
   "source": [
    "###### One hot encoding"
   ]
  },
  {
   "cell_type": "markdown",
   "id": "4109f876",
   "metadata": {},
   "source": [
    "Here, for each categorical variables with two values, we set *drop_first=True* to encode the variable into a single column of 0 or 1. Then, for categorical features with more than 2 values, we apply the *get_dummies()* to perform regular one-hot encoding."
   ]
  },
  {
   "cell_type": "code",
   "execution_count": 8,
   "id": "cfa4b88b",
   "metadata": {},
   "outputs": [],
   "source": [
    "# One hot encoding\n",
    "for col in cat_cols:\n",
    "    if (phase2_copy[col].nunique() == 2):\n",
    "        phase2_copy[col] = pd.get_dummies(phase2_copy[col], drop_first=True)\n",
    "        \n",
    "# One-hot encoding for categorical values for values greater than 2\n",
    "phase2_copy = pd.get_dummies(phase2_copy)"
   ]
  },
  {
   "cell_type": "code",
   "execution_count": 9,
   "id": "7726270d",
   "metadata": {},
   "outputs": [
    {
     "data": {
      "text/plain": [
       "Index(['Gender', 'age', 'currentSmoker', 'cigsPerDay', 'BPMeds',\n",
       "       'prevalentStroke', 'prevalentHyp', 'diabetes', 'totChol', 'sysBP',\n",
       "       'diaBP', 'BMI', 'heartRate', 'glucose', 'Heart_stroke',\n",
       "       'education_graduate', 'education_postgraduate',\n",
       "       'education_primaryschool', 'education_uneducated'],\n",
       "      dtype='object')"
      ]
     },
     "execution_count": 9,
     "metadata": {},
     "output_type": "execute_result"
    }
   ],
   "source": [
    "# Displaying all columns\n",
    "phase2_copy.columns"
   ]
  },
  {
   "cell_type": "code",
   "execution_count": 10,
   "id": "aa4b10a9",
   "metadata": {},
   "outputs": [
    {
     "data": {
      "text/html": [
       "<div>\n",
       "<style scoped>\n",
       "    .dataframe tbody tr th:only-of-type {\n",
       "        vertical-align: middle;\n",
       "    }\n",
       "\n",
       "    .dataframe tbody tr th {\n",
       "        vertical-align: top;\n",
       "    }\n",
       "\n",
       "    .dataframe thead th {\n",
       "        text-align: right;\n",
       "    }\n",
       "</style>\n",
       "<table border=\"1\" class=\"dataframe\">\n",
       "  <thead>\n",
       "    <tr style=\"text-align: right;\">\n",
       "      <th></th>\n",
       "      <th>Gender</th>\n",
       "      <th>age</th>\n",
       "      <th>currentSmoker</th>\n",
       "      <th>cigsPerDay</th>\n",
       "      <th>BPMeds</th>\n",
       "      <th>prevalentStroke</th>\n",
       "      <th>prevalentHyp</th>\n",
       "      <th>diabetes</th>\n",
       "      <th>totChol</th>\n",
       "      <th>sysBP</th>\n",
       "      <th>diaBP</th>\n",
       "      <th>BMI</th>\n",
       "      <th>heartRate</th>\n",
       "      <th>glucose</th>\n",
       "      <th>Heart_stroke</th>\n",
       "      <th>education_graduate</th>\n",
       "      <th>education_postgraduate</th>\n",
       "      <th>education_primaryschool</th>\n",
       "      <th>education_uneducated</th>\n",
       "    </tr>\n",
       "  </thead>\n",
       "  <tbody>\n",
       "    <tr>\n",
       "      <th>0</th>\n",
       "      <td>1</td>\n",
       "      <td>39</td>\n",
       "      <td>0</td>\n",
       "      <td>0</td>\n",
       "      <td>0</td>\n",
       "      <td>0</td>\n",
       "      <td>0</td>\n",
       "      <td>0</td>\n",
       "      <td>195.0</td>\n",
       "      <td>106.0</td>\n",
       "      <td>70.0</td>\n",
       "      <td>26.97</td>\n",
       "      <td>80.0</td>\n",
       "      <td>77.0</td>\n",
       "      <td>0</td>\n",
       "      <td>0</td>\n",
       "      <td>1</td>\n",
       "      <td>0</td>\n",
       "      <td>0</td>\n",
       "    </tr>\n",
       "    <tr>\n",
       "      <th>1</th>\n",
       "      <td>0</td>\n",
       "      <td>46</td>\n",
       "      <td>0</td>\n",
       "      <td>0</td>\n",
       "      <td>0</td>\n",
       "      <td>0</td>\n",
       "      <td>0</td>\n",
       "      <td>0</td>\n",
       "      <td>250.0</td>\n",
       "      <td>121.0</td>\n",
       "      <td>81.0</td>\n",
       "      <td>28.73</td>\n",
       "      <td>95.0</td>\n",
       "      <td>76.0</td>\n",
       "      <td>0</td>\n",
       "      <td>0</td>\n",
       "      <td>0</td>\n",
       "      <td>1</td>\n",
       "      <td>0</td>\n",
       "    </tr>\n",
       "    <tr>\n",
       "      <th>2</th>\n",
       "      <td>1</td>\n",
       "      <td>48</td>\n",
       "      <td>1</td>\n",
       "      <td>20</td>\n",
       "      <td>0</td>\n",
       "      <td>0</td>\n",
       "      <td>0</td>\n",
       "      <td>0</td>\n",
       "      <td>245.0</td>\n",
       "      <td>127.5</td>\n",
       "      <td>80.0</td>\n",
       "      <td>25.34</td>\n",
       "      <td>75.0</td>\n",
       "      <td>70.0</td>\n",
       "      <td>0</td>\n",
       "      <td>0</td>\n",
       "      <td>0</td>\n",
       "      <td>0</td>\n",
       "      <td>1</td>\n",
       "    </tr>\n",
       "  </tbody>\n",
       "</table>\n",
       "</div>"
      ],
      "text/plain": [
       "   Gender  age  currentSmoker  cigsPerDay  BPMeds  prevalentStroke  \\\n",
       "0       1   39              0           0       0                0   \n",
       "1       0   46              0           0       0                0   \n",
       "2       1   48              1          20       0                0   \n",
       "\n",
       "   prevalentHyp  diabetes  totChol  sysBP  diaBP    BMI  heartRate  glucose  \\\n",
       "0             0         0    195.0  106.0   70.0  26.97       80.0     77.0   \n",
       "1             0         0    250.0  121.0   81.0  28.73       95.0     76.0   \n",
       "2             0         0    245.0  127.5   80.0  25.34       75.0     70.0   \n",
       "\n",
       "   Heart_stroke  education_graduate  education_postgraduate  \\\n",
       "0             0                   0                       1   \n",
       "1             0                   0                       0   \n",
       "2             0                   0                       0   \n",
       "\n",
       "   education_primaryschool  education_uneducated  \n",
       "0                        0                     0  \n",
       "1                        1                     0  \n",
       "2                        0                     1  "
      ]
     },
     "execution_count": 10,
     "metadata": {},
     "output_type": "execute_result"
    }
   ],
   "source": [
    "# Viewing first 2 rows\n",
    "phase2_copy.head(3)"
   ]
  },
  {
   "cell_type": "code",
   "execution_count": 11,
   "id": "c2a5e80e",
   "metadata": {},
   "outputs": [
    {
     "data": {
      "text/plain": [
       "Gender                       uint8\n",
       "age                          int64\n",
       "currentSmoker                int64\n",
       "cigsPerDay                   int64\n",
       "BPMeds                       int64\n",
       "prevalentStroke              uint8\n",
       "prevalentHyp                 int64\n",
       "diabetes                     int64\n",
       "totChol                    float64\n",
       "sysBP                      float64\n",
       "diaBP                      float64\n",
       "BMI                        float64\n",
       "heartRate                  float64\n",
       "glucose                    float64\n",
       "Heart_stroke                 uint8\n",
       "education_graduate           uint8\n",
       "education_postgraduate       uint8\n",
       "education_primaryschool      uint8\n",
       "education_uneducated         uint8\n",
       "dtype: object"
      ]
     },
     "execution_count": 11,
     "metadata": {},
     "output_type": "execute_result"
    }
   ],
   "source": [
    "# Checking datatype after OHE\n",
    "phase2_copy.dtypes"
   ]
  },
  {
   "cell_type": "code",
   "execution_count": 12,
   "id": "1a47f2e7",
   "metadata": {},
   "outputs": [
    {
     "data": {
      "text/plain": [
       "0    3516\n",
       "1     620\n",
       "Name: Heart_stroke, dtype: int64"
      ]
     },
     "execution_count": 12,
     "metadata": {},
     "output_type": "execute_result"
    }
   ],
   "source": [
    "# Creating datasets for modelling\n",
    "data_desc = phase2_copy.drop(columns='Heart_stroke')\n",
    "data_target = phase2_copy['Heart_stroke']\n",
    "data_target.value_counts()"
   ]
  },
  {
   "cell_type": "markdown",
   "id": "1ce86438",
   "metadata": {},
   "source": [
    "###### Scaling data"
   ]
  },
  {
   "cell_type": "markdown",
   "id": "9f4c74ae",
   "metadata": {},
   "source": [
    "After performing one-hot encoding, we scale the descriptive features using *MinMaxScaler()* before which we make a copy of original dataset. This copy is because, the result from MinMaxScaler will be an numpy array and so the feature names will be lost. To impute the feature names after performing MinMaxScaler, we make a copy of the dataset obtained after one-hot encoding."
   ]
  },
  {
   "cell_type": "code",
   "execution_count": 13,
   "id": "241ef8fc",
   "metadata": {},
   "outputs": [],
   "source": [
    "# Scaling\n",
    "for_cols = data_desc.copy()\n",
    "phase2_copy_scaler = preprocessing.MinMaxScaler()\n",
    "phase2_copy_scaler.fit(data_desc)\n",
    "data_desc = phase2_copy_scaler.fit_transform(data_desc)"
   ]
  },
  {
   "cell_type": "code",
   "execution_count": 14,
   "id": "0b68ea6f",
   "metadata": {},
   "outputs": [
    {
     "data": {
      "text/html": [
       "<div>\n",
       "<style scoped>\n",
       "    .dataframe tbody tr th:only-of-type {\n",
       "        vertical-align: middle;\n",
       "    }\n",
       "\n",
       "    .dataframe tbody tr th {\n",
       "        vertical-align: top;\n",
       "    }\n",
       "\n",
       "    .dataframe thead th {\n",
       "        text-align: right;\n",
       "    }\n",
       "</style>\n",
       "<table border=\"1\" class=\"dataframe\">\n",
       "  <thead>\n",
       "    <tr style=\"text-align: right;\">\n",
       "      <th></th>\n",
       "      <th>Gender</th>\n",
       "      <th>age</th>\n",
       "      <th>currentSmoker</th>\n",
       "      <th>cigsPerDay</th>\n",
       "      <th>BPMeds</th>\n",
       "      <th>prevalentStroke</th>\n",
       "      <th>prevalentHyp</th>\n",
       "      <th>diabetes</th>\n",
       "      <th>totChol</th>\n",
       "      <th>sysBP</th>\n",
       "      <th>diaBP</th>\n",
       "      <th>BMI</th>\n",
       "      <th>heartRate</th>\n",
       "      <th>glucose</th>\n",
       "      <th>education_graduate</th>\n",
       "      <th>education_postgraduate</th>\n",
       "      <th>education_primaryschool</th>\n",
       "      <th>education_uneducated</th>\n",
       "    </tr>\n",
       "  </thead>\n",
       "  <tbody>\n",
       "    <tr>\n",
       "      <th>2454</th>\n",
       "      <td>0.0</td>\n",
       "      <td>0.815789</td>\n",
       "      <td>0.0</td>\n",
       "      <td>0.000000</td>\n",
       "      <td>0.0</td>\n",
       "      <td>0.0</td>\n",
       "      <td>1.0</td>\n",
       "      <td>0.0</td>\n",
       "      <td>0.228130</td>\n",
       "      <td>0.319149</td>\n",
       "      <td>0.423280</td>\n",
       "      <td>0.252060</td>\n",
       "      <td>0.252525</td>\n",
       "      <td>0.093220</td>\n",
       "      <td>0.0</td>\n",
       "      <td>0.0</td>\n",
       "      <td>0.0</td>\n",
       "      <td>1.0</td>\n",
       "    </tr>\n",
       "    <tr>\n",
       "      <th>3082</th>\n",
       "      <td>1.0</td>\n",
       "      <td>0.263158</td>\n",
       "      <td>1.0</td>\n",
       "      <td>0.285714</td>\n",
       "      <td>0.0</td>\n",
       "      <td>0.0</td>\n",
       "      <td>0.0</td>\n",
       "      <td>0.0</td>\n",
       "      <td>0.207547</td>\n",
       "      <td>0.092199</td>\n",
       "      <td>0.243386</td>\n",
       "      <td>0.153660</td>\n",
       "      <td>0.242424</td>\n",
       "      <td>0.118644</td>\n",
       "      <td>0.0</td>\n",
       "      <td>0.0</td>\n",
       "      <td>0.0</td>\n",
       "      <td>1.0</td>\n",
       "    </tr>\n",
       "    <tr>\n",
       "      <th>60</th>\n",
       "      <td>0.0</td>\n",
       "      <td>0.921053</td>\n",
       "      <td>0.0</td>\n",
       "      <td>0.000000</td>\n",
       "      <td>0.0</td>\n",
       "      <td>0.0</td>\n",
       "      <td>1.0</td>\n",
       "      <td>0.0</td>\n",
       "      <td>0.241852</td>\n",
       "      <td>0.347518</td>\n",
       "      <td>0.433862</td>\n",
       "      <td>0.211100</td>\n",
       "      <td>0.161616</td>\n",
       "      <td>0.096045</td>\n",
       "      <td>0.0</td>\n",
       "      <td>0.0</td>\n",
       "      <td>0.0</td>\n",
       "      <td>1.0</td>\n",
       "    </tr>\n",
       "    <tr>\n",
       "      <th>1121</th>\n",
       "      <td>0.0</td>\n",
       "      <td>0.815789</td>\n",
       "      <td>0.0</td>\n",
       "      <td>0.000000</td>\n",
       "      <td>0.0</td>\n",
       "      <td>0.0</td>\n",
       "      <td>1.0</td>\n",
       "      <td>0.0</td>\n",
       "      <td>0.346484</td>\n",
       "      <td>0.342790</td>\n",
       "      <td>0.444444</td>\n",
       "      <td>0.251575</td>\n",
       "      <td>0.202020</td>\n",
       "      <td>0.096045</td>\n",
       "      <td>1.0</td>\n",
       "      <td>0.0</td>\n",
       "      <td>0.0</td>\n",
       "      <td>0.0</td>\n",
       "    </tr>\n",
       "    <tr>\n",
       "      <th>1545</th>\n",
       "      <td>1.0</td>\n",
       "      <td>0.763158</td>\n",
       "      <td>1.0</td>\n",
       "      <td>0.214286</td>\n",
       "      <td>0.0</td>\n",
       "      <td>0.0</td>\n",
       "      <td>0.0</td>\n",
       "      <td>0.0</td>\n",
       "      <td>0.156089</td>\n",
       "      <td>0.172577</td>\n",
       "      <td>0.338624</td>\n",
       "      <td>0.246486</td>\n",
       "      <td>0.363636</td>\n",
       "      <td>0.121469</td>\n",
       "      <td>0.0</td>\n",
       "      <td>0.0</td>\n",
       "      <td>1.0</td>\n",
       "      <td>0.0</td>\n",
       "    </tr>\n",
       "  </tbody>\n",
       "</table>\n",
       "</div>"
      ],
      "text/plain": [
       "      Gender       age  currentSmoker  cigsPerDay  BPMeds  prevalentStroke  \\\n",
       "2454     0.0  0.815789            0.0    0.000000     0.0              0.0   \n",
       "3082     1.0  0.263158            1.0    0.285714     0.0              0.0   \n",
       "60       0.0  0.921053            0.0    0.000000     0.0              0.0   \n",
       "1121     0.0  0.815789            0.0    0.000000     0.0              0.0   \n",
       "1545     1.0  0.763158            1.0    0.214286     0.0              0.0   \n",
       "\n",
       "      prevalentHyp  diabetes   totChol     sysBP     diaBP       BMI  \\\n",
       "2454           1.0       0.0  0.228130  0.319149  0.423280  0.252060   \n",
       "3082           0.0       0.0  0.207547  0.092199  0.243386  0.153660   \n",
       "60             1.0       0.0  0.241852  0.347518  0.433862  0.211100   \n",
       "1121           1.0       0.0  0.346484  0.342790  0.444444  0.251575   \n",
       "1545           0.0       0.0  0.156089  0.172577  0.338624  0.246486   \n",
       "\n",
       "      heartRate   glucose  education_graduate  education_postgraduate  \\\n",
       "2454   0.252525  0.093220                 0.0                     0.0   \n",
       "3082   0.242424  0.118644                 0.0                     0.0   \n",
       "60     0.161616  0.096045                 0.0                     0.0   \n",
       "1121   0.202020  0.096045                 1.0                     0.0   \n",
       "1545   0.363636  0.121469                 0.0                     0.0   \n",
       "\n",
       "      education_primaryschool  education_uneducated  \n",
       "2454                      0.0                   1.0  \n",
       "3082                      0.0                   1.0  \n",
       "60                        0.0                   1.0  \n",
       "1121                      0.0                   0.0  \n",
       "1545                      1.0                   0.0  "
      ]
     },
     "execution_count": 14,
     "metadata": {},
     "output_type": "execute_result"
    }
   ],
   "source": [
    "pd.DataFrame(data_desc, columns=for_cols.columns).sample(5, random_state=999)"
   ]
  },
  {
   "cell_type": "markdown",
   "id": "fcb7482e",
   "metadata": {},
   "source": [
    "###### Splitting the data into Training dataset and Testing dataset"
   ]
  },
  {
   "cell_type": "markdown",
   "id": "02528bf4",
   "metadata": {},
   "source": [
    "Once after scaling the features, we split the data into training and testing datasets so as to fit them to our models and to predict our goal."
   ]
  },
  {
   "cell_type": "code",
   "execution_count": 15,
   "id": "4d963cbd",
   "metadata": {},
   "outputs": [],
   "source": [
    "data_desc_train, data_desc_test, data_target_train, data_target_test = train_test_split(data_desc, data_target, \n",
    "                                                    test_size = 0.2, random_state=999, stratify = data_target)"
   ]
  },
  {
   "cell_type": "code",
   "execution_count": 16,
   "id": "091e6f33",
   "metadata": {},
   "outputs": [
    {
     "data": {
      "text/plain": [
       "(3308, 18)"
      ]
     },
     "execution_count": 16,
     "metadata": {},
     "output_type": "execute_result"
    }
   ],
   "source": [
    "data_desc_train.shape"
   ]
  },
  {
   "cell_type": "code",
   "execution_count": 17,
   "id": "d3dab5a7",
   "metadata": {},
   "outputs": [
    {
     "data": {
      "text/plain": [
       "(828, 18)"
      ]
     },
     "execution_count": 17,
     "metadata": {},
     "output_type": "execute_result"
    }
   ],
   "source": [
    "data_desc_test.shape"
   ]
  },
  {
   "cell_type": "code",
   "execution_count": 18,
   "id": "8d7cddc0",
   "metadata": {},
   "outputs": [
    {
     "data": {
      "text/plain": [
       "(3308,)"
      ]
     },
     "execution_count": 18,
     "metadata": {},
     "output_type": "execute_result"
    }
   ],
   "source": [
    "data_target_train.shape"
   ]
  },
  {
   "cell_type": "code",
   "execution_count": 19,
   "id": "2393a3fa",
   "metadata": {},
   "outputs": [
    {
     "data": {
      "text/plain": [
       "(828,)"
      ]
     },
     "execution_count": 19,
     "metadata": {},
     "output_type": "execute_result"
    }
   ],
   "source": [
    "data_target_test.shape"
   ]
  },
  {
   "cell_type": "markdown",
   "id": "084e03c5",
   "metadata": {},
   "source": [
    "## Feature Selection (FS) <a id='FS'></a>"
   ]
  },
  {
   "cell_type": "markdown",
   "id": "73be575f",
   "metadata": {},
   "source": [
    "Feature selection has to be performed before modeling because, it helps in increasing accuracy by selecting the most appropriate features. Here, we use **Random Forest Importance (RFI)** to select the most important 10 features from our dataset. By doing so, it helps in gaining some insights about the data and its relationship to the problem."
   ]
  },
  {
   "cell_type": "markdown",
   "id": "e4f1ee8f",
   "metadata": {},
   "source": [
    "###### Feature selection using RFI"
   ]
  },
  {
   "cell_type": "code",
   "execution_count": 20,
   "id": "7eb5fa3b",
   "metadata": {},
   "outputs": [
    {
     "data": {
      "text/plain": [
       "array(['sysBP', 'BMI', 'totChol', 'age', 'glucose', 'diaBP', 'heartRate',\n",
       "       'cigsPerDay', 'Gender', 'prevalentHyp'], dtype=object)"
      ]
     },
     "execution_count": 20,
     "metadata": {},
     "output_type": "execute_result"
    }
   ],
   "source": [
    "# Feature selection\n",
    "from sklearn.ensemble import RandomForestClassifier\n",
    "\n",
    "num_features = 10\n",
    "model_rfi = RandomForestClassifier(n_estimators=100)\n",
    "model_rfi.fit(data_desc, data_target)\n",
    "features_rfi = np.argsort(model_rfi.feature_importances_)[::-1][0:num_features]\n",
    "\n",
    "best_features_rfi = for_cols.columns[features_rfi].values\n",
    "best_features_rfi"
   ]
  },
  {
   "cell_type": "code",
   "execution_count": 21,
   "id": "3e7409f2",
   "metadata": {},
   "outputs": [
    {
     "data": {
      "text/plain": [
       "array([0.13495183, 0.12549254, 0.12209078, 0.12127796, 0.11846222,\n",
       "       0.11388469, 0.09582397, 0.05088452, 0.02133901, 0.01820142])"
      ]
     },
     "execution_count": 21,
     "metadata": {},
     "output_type": "execute_result"
    }
   ],
   "source": [
    "feature_importances_rfi = model_rfi.feature_importances_[features_rfi]\n",
    "feature_importances_rfi"
   ]
  },
  {
   "cell_type": "code",
   "execution_count": 22,
   "id": "54269641",
   "metadata": {},
   "outputs": [
    {
     "data": {
      "image/png": "[encoded data removed]",
      "text/plain": [
       "<Figure size 432x288 with 1 Axes>"
      ]
     },
     "metadata": {
      "image/png": {
       "height": 281,
       "width": 477
      }
     },
     "output_type": "display_data"
    }
   ],
   "source": [
    "# Plotting top 10 features\n",
    "def plot_imp(best_features, scores, method_name):   \n",
    "    plt.barh(best_features, scores)\n",
    "    plt.title('Top 10 important features selected using ' + method_name)\n",
    "    plt.xlabel(\"Importance\")\n",
    "    plt.ylabel(\"Features\")\n",
    "    plt.show()\n",
    "\n",
    "plot_imp(best_features_rfi, feature_importances_rfi, 'Random Forest')"
   ]
  },
  {
   "cell_type": "markdown",
   "id": "2239855c",
   "metadata": {},
   "source": [
    "From the above plot, we can see that the **sysBP** feature has more importance followed by **BMI, totChol**"
   ]
  },
  {
   "cell_type": "markdown",
   "id": "3fd9cbd8",
   "metadata": {},
   "source": [
    "Defining custom class **RFIFeatureSelector()** for feature selection using RFI and to pass that as a step to the pipeline with which we search over 10 and even up to full set of features to determine the number of features that works the best with each classifier that we have chosen as part of this project."
   ]
  },
  {
   "cell_type": "code",
   "execution_count": 23,
   "id": "6d2f8c11",
   "metadata": {},
   "outputs": [],
   "source": [
    "# RFI feature selection function inside a pipeline\n",
    "class RFIFeatureSelector(BaseEstimator, TransformerMixin):\n",
    "    \n",
    "    # class constructor \n",
    "    def __init__(self, n_features_=10):\n",
    "        self.n_features_ = n_features_\n",
    "        self.fs_indices_ = None\n",
    "\n",
    "    # override the fit function\n",
    "    def fit(self, X, y):\n",
    "        from sklearn.ensemble import RandomForestClassifier\n",
    "        from numpy import argsort\n",
    "        model_rfc = RandomForestClassifier(n_estimators=100, random_state=999)\n",
    "        model_rfc.fit(X, y)\n",
    "        self.fs_indices_ = argsort(model_rfi.feature_importances_)[::-1][0:self.n_features_] \n",
    "        return self \n",
    "    \n",
    "    # override the transform function\n",
    "    def transform(self, X, y=None):\n",
    "        return X[:, self.fs_indices_]"
   ]
  },
  {
   "cell_type": "markdown",
   "id": "937c349c",
   "metadata": {},
   "source": [
    "###### Model Evaluation using StratifiedKFold"
   ]
  },
  {
   "cell_type": "markdown",
   "id": "5ead0939",
   "metadata": {},
   "source": [
    "We will train and tune our models on **3308 rows of training data** and test them on **828 rows of test data**. For each model, 5-fold stratified cross-validation is used as an evaluation method for hyper parameter tuning."
   ]
  },
  {
   "cell_type": "code",
   "execution_count": 24,
   "id": "17c371c8",
   "metadata": {},
   "outputs": [],
   "source": [
    "cv_method = StratifiedKFold(n_splits=5, shuffle=True, random_state=999)"
   ]
  },
  {
   "cell_type": "markdown",
   "id": "a0abf324",
   "metadata": {},
   "source": [
    "## Random Forest Classifier <a id='rfc'></a>"
   ]
  },
  {
   "cell_type": "markdown",
   "id": "7c2a3f40",
   "metadata": {},
   "source": [
    "A pipeline is created for tuning the hyper parameters via cross-validation after feature selection for Random Forest. Grid search for Random Forest is done by using **GridSearchCV**.\n",
    "\n",
    "The parameters used for Random Forest are as follows:\n",
    "- Minimum Samples split (min_samples_split)\n",
    "- Maximum depth (max_depth)\n",
    "- For RFI feature selection, number of features (n_features_)\n",
    "\n",
    "Here, we use GridSearchCV to go over various values of max_depth and min_samples_split with 'gini' as the criterion to maximize information gain and random_state of 111."
   ]
  },
  {
   "cell_type": "markdown",
   "id": "be72eb03",
   "metadata": {},
   "source": [
    "### Model Fitting and Tuning <a id='rfc-fitting-tuning'></a>"
   ]
  },
  {
   "cell_type": "code",
   "execution_count": 25,
   "id": "adaf7028",
   "metadata": {},
   "outputs": [],
   "source": [
    "# RFC Model defining for GridSearchCV\n",
    "pipe_rfc = Pipeline(steps=[('rfc_fs', RFIFeatureSelector()), \n",
    "                           ('rfc', RandomForestClassifier(criterion='gini', random_state=111))])\n",
    "\n",
    "parameters_pipe_rfc = {'rfc_fs__n_features_': [10, data_desc.shape[1]],\n",
    "                      'rfc__min_samples_split': [4, 10, 20, 50, 70, 100],\n",
    "                       'rfc__max_depth': [3.0, 5.0, 8.0, 10.0]}\n",
    "\n",
    "gs_pipe_rfc = GridSearchCV(estimator=pipe_rfc, \n",
    "                           param_grid=parameters_pipe_rfc, \n",
    "                           cv=cv_method,\n",
    "                           refit=True,\n",
    "                           n_jobs=-2,\n",
    "                           scoring='accuracy',\n",
    "                           verbose=1)"
   ]
  },
  {
   "cell_type": "code",
   "execution_count": 26,
   "id": "4a5a1e73",
   "metadata": {},
   "outputs": [
    {
     "name": "stdout",
     "output_type": "stream",
     "text": [
      "Fitting 5 folds for each of 48 candidates, totalling 240 fits\n"
     ]
    },
    {
     "data": {
      "text/plain": [
       "GridSearchCV(cv=StratifiedKFold(n_splits=5, random_state=999, shuffle=True),\n",
       "             estimator=Pipeline(steps=[('rfc_fs', RFIFeatureSelector()),\n",
       "                                       ('rfc',\n",
       "                                        RandomForestClassifier(random_state=111))]),\n",
       "             n_jobs=-2,\n",
       "             param_grid={'rfc__max_depth': [3.0, 5.0, 8.0, 10.0],\n",
       "                         'rfc__min_samples_split': [4, 10, 20, 50, 70, 100],\n",
       "                         'rfc_fs__n_features_': [10, 18]},\n",
       "             scoring='accuracy', verbose=1)"
      ]
     },
     "execution_count": 26,
     "metadata": {},
     "output_type": "execute_result"
    }
   ],
   "source": [
    "# Model fitting\n",
    "gs_pipe_rfc.fit(data_desc_train, data_target_train)"
   ]
  },
  {
   "cell_type": "code",
   "execution_count": 27,
   "id": "57217451",
   "metadata": {},
   "outputs": [
    {
     "data": {
      "text/plain": [
       "0.8490338164251208"
      ]
     },
     "execution_count": 27,
     "metadata": {},
     "output_type": "execute_result"
    }
   ],
   "source": [
    "# Predicting and generating accuracy score the model\n",
    "data_target_pred = gs_pipe_rfc.predict(data_desc_test)\n",
    "metrics.accuracy_score(data_target_test, data_target_pred)"
   ]
  },
  {
   "cell_type": "code",
   "execution_count": 28,
   "id": "3c707491",
   "metadata": {},
   "outputs": [
    {
     "data": {
      "text/plain": [
       "array([[697,   7],\n",
       "       [118,   6]], dtype=int64)"
      ]
     },
     "execution_count": 28,
     "metadata": {},
     "output_type": "execute_result"
    }
   ],
   "source": [
    "# Confusion matrix\n",
    "metrics.confusion_matrix(data_target_test, data_target_pred)"
   ]
  },
  {
   "cell_type": "code",
   "execution_count": 29,
   "id": "b1f00d1b",
   "metadata": {},
   "outputs": [
    {
     "name": "stdout",
     "output_type": "stream",
     "text": [
      "              precision    recall  f1-score   support\n",
      "\n",
      "           0       0.86      0.99      0.92       704\n",
      "           1       0.46      0.05      0.09       124\n",
      "\n",
      "    accuracy                           0.85       828\n",
      "   macro avg       0.66      0.52      0.50       828\n",
      "weighted avg       0.80      0.85      0.79       828\n",
      "\n"
     ]
    }
   ],
   "source": [
    "# Classification report\n",
    "print(metrics.classification_report(data_target_test, data_target_pred))"
   ]
  },
  {
   "cell_type": "code",
   "execution_count": 30,
   "id": "44bb5966",
   "metadata": {},
   "outputs": [
    {
     "data": {
      "text/plain": [
       "{'rfc__max_depth': 10.0,\n",
       " 'rfc__min_samples_split': 20,\n",
       " 'rfc_fs__n_features_': 18}"
      ]
     },
     "execution_count": 30,
     "metadata": {},
     "output_type": "execute_result"
    }
   ],
   "source": [
    "# Obtaining the best parameters\n",
    "gs_pipe_rfc.best_params_"
   ]
  },
  {
   "cell_type": "code",
   "execution_count": 31,
   "id": "7c7c7099",
   "metadata": {},
   "outputs": [
    {
     "data": {
      "text/plain": [
       "0.855802569575531"
      ]
     },
     "execution_count": 31,
     "metadata": {},
     "output_type": "execute_result"
    }
   ],
   "source": [
    "# Obtaining the best accuracy score\n",
    "gs_pipe_rfc.best_score_"
   ]
  },
  {
   "cell_type": "markdown",
   "id": "5c1cb1b8",
   "metadata": {},
   "source": [
    "From the above result, we observe that the Random Forest model has a *mean accuracy score* of **0.86**. The best performing Random Forest selected *__10 features__ with **min_samples_split as 20** and __max_depth as 10.0__*."
   ]
  },
  {
   "cell_type": "markdown",
   "id": "b8dba0a0",
   "metadata": {},
   "source": [
    "Checking other combinations to see if the difference is rather significant or not."
   ]
  },
  {
   "cell_type": "code",
   "execution_count": 32,
   "id": "0793a1c5",
   "metadata": {},
   "outputs": [],
   "source": [
    "# Function to format the scores of search results as a Pandas data frame\n",
    "def get_search_results(gs):\n",
    "\n",
    "    def model_result(scores, params):\n",
    "        scores = {'mean_score': np.mean(scores),\n",
    "             'std_score': np.std(scores),\n",
    "             'min_score': np.min(scores),\n",
    "             'max_score': np.max(scores)}\n",
    "        return pd.Series({**params,**scores})\n",
    "\n",
    "    models = []\n",
    "    scores = []\n",
    "\n",
    "    for i in range(gs.n_splits_):\n",
    "        key = f\"split{i}_test_score\"\n",
    "        r = gs.cv_results_[key]        \n",
    "        scores.append(r.reshape(-1,1))\n",
    "\n",
    "    all_scores = np.hstack(scores)\n",
    "    for p, s in zip(gs.cv_results_['params'], all_scores):\n",
    "        models.append((model_result(s, p)))\n",
    "\n",
    "    results_pipe = pd.concat(models, axis=1).T.sort_values(['mean_score'], ascending=False)\n",
    "\n",
    "    columns_headers = ['mean_score', 'std_score', 'max_score', 'min_score']\n",
    "    columns = columns_headers + [c for c in results_pipe.columns if c not in columns_headers]\n",
    "\n",
    "    return results_pipe[columns]"
   ]
  },
  {
   "cell_type": "code",
   "execution_count": 33,
   "id": "3a0d2b6f",
   "metadata": {},
   "outputs": [
    {
     "data": {
      "text/html": [
       "<div>\n",
       "<style scoped>\n",
       "    .dataframe tbody tr th:only-of-type {\n",
       "        vertical-align: middle;\n",
       "    }\n",
       "\n",
       "    .dataframe tbody tr th {\n",
       "        vertical-align: top;\n",
       "    }\n",
       "\n",
       "    .dataframe thead th {\n",
       "        text-align: right;\n",
       "    }\n",
       "</style>\n",
       "<table border=\"1\" class=\"dataframe\">\n",
       "  <thead>\n",
       "    <tr style=\"text-align: right;\">\n",
       "      <th></th>\n",
       "      <th>mean_score</th>\n",
       "      <th>std_score</th>\n",
       "      <th>max_score</th>\n",
       "      <th>min_score</th>\n",
       "      <th>rfc__max_depth</th>\n",
       "      <th>rfc__min_samples_split</th>\n",
       "      <th>rfc_fs__n_features_</th>\n",
       "    </tr>\n",
       "  </thead>\n",
       "  <tbody>\n",
       "    <tr>\n",
       "      <th>41</th>\n",
       "      <td>0.855803</td>\n",
       "      <td>0.002717</td>\n",
       "      <td>0.859517</td>\n",
       "      <td>0.851740</td>\n",
       "      <td>10.0</td>\n",
       "      <td>20.0</td>\n",
       "      <td>18.0</td>\n",
       "    </tr>\n",
       "    <tr>\n",
       "      <th>36</th>\n",
       "      <td>0.855198</td>\n",
       "      <td>0.004044</td>\n",
       "      <td>0.862538</td>\n",
       "      <td>0.851740</td>\n",
       "      <td>10.0</td>\n",
       "      <td>4.0</td>\n",
       "      <td>10.0</td>\n",
       "    </tr>\n",
       "    <tr>\n",
       "      <th>28</th>\n",
       "      <td>0.854896</td>\n",
       "      <td>0.003090</td>\n",
       "      <td>0.859517</td>\n",
       "      <td>0.850227</td>\n",
       "      <td>8.0</td>\n",
       "      <td>20.0</td>\n",
       "      <td>10.0</td>\n",
       "    </tr>\n",
       "    <tr>\n",
       "      <th>38</th>\n",
       "      <td>0.854291</td>\n",
       "      <td>0.002717</td>\n",
       "      <td>0.858006</td>\n",
       "      <td>0.850227</td>\n",
       "      <td>10.0</td>\n",
       "      <td>10.0</td>\n",
       "      <td>10.0</td>\n",
       "    </tr>\n",
       "    <tr>\n",
       "      <th>24</th>\n",
       "      <td>0.854290</td>\n",
       "      <td>0.004435</td>\n",
       "      <td>0.859517</td>\n",
       "      <td>0.847201</td>\n",
       "      <td>8.0</td>\n",
       "      <td>4.0</td>\n",
       "      <td>10.0</td>\n",
       "    </tr>\n",
       "  </tbody>\n",
       "</table>\n",
       "</div>"
      ],
      "text/plain": [
       "    mean_score  std_score  max_score  min_score  rfc__max_depth  \\\n",
       "41    0.855803   0.002717   0.859517   0.851740            10.0   \n",
       "36    0.855198   0.004044   0.862538   0.851740            10.0   \n",
       "28    0.854896   0.003090   0.859517   0.850227             8.0   \n",
       "38    0.854291   0.002717   0.858006   0.850227            10.0   \n",
       "24    0.854290   0.004435   0.859517   0.847201             8.0   \n",
       "\n",
       "    rfc__min_samples_split  rfc_fs__n_features_  \n",
       "41                    20.0                 18.0  \n",
       "36                     4.0                 10.0  \n",
       "28                    20.0                 10.0  \n",
       "38                    10.0                 10.0  \n",
       "24                     4.0                 10.0  "
      ]
     },
     "execution_count": 33,
     "metadata": {},
     "output_type": "execute_result"
    }
   ],
   "source": [
    "# Viewing the obtained dataset\n",
    "results_rfc = get_search_results(gs_pipe_rfc)\n",
    "results_rfc.head()"
   ]
  },
  {
   "cell_type": "markdown",
   "id": "213cad1c",
   "metadata": {},
   "source": [
    "From above result, we can see clearly that there is not much difference between the hyper parameter combinations when number of features selected is chosen to be the condition. Hence, we can plot and visualize the results of grid search with respect to 10 features."
   ]
  },
  {
   "cell_type": "code",
   "execution_count": 34,
   "id": "cadf672e",
   "metadata": {},
   "outputs": [
    {
     "data": {
      "image/png": "[encoded data removed]",
      "text/plain": [
       "<Figure size 432x288 with 1 Axes>"
      ]
     },
     "metadata": {
      "image/png": {
       "height": 281,
       "width": 443
      }
     },
     "output_type": "display_data"
    }
   ],
   "source": [
    "# Plotting results of grid search wrt 10 features\n",
    "results_rfc_10f = results_rfc[results_rfc['rfc_fs__n_features_'] == 10.0]\n",
    "\n",
    "for i in results_rfc_10f['rfc__max_depth'].unique():\n",
    "    temp = results_rfc_10f[results_rfc_10f['rfc__max_depth'] == i]\n",
    "    plt.plot(temp['rfc__min_samples_split'], temp['mean_score'], marker = '.', label = i)\n",
    "    \n",
    "plt.legend(title = \"Max depth\")\n",
    "plt.xlabel('Minimum Samples for split')\n",
    "plt.ylabel(\"Accuracy Score\")\n",
    "plt.title(\"Random Forest Performance Comparison with 10 Features\")\n",
    "plt.show()"
   ]
  },
  {
   "cell_type": "markdown",
   "id": "21114c16",
   "metadata": {},
   "source": [
    "From the above plot, we could see that accuracy score varies as max_depth and min_samples_split changes."
   ]
  },
  {
   "cell_type": "markdown",
   "id": "f9ce0787",
   "metadata": {},
   "source": [
    "## Gaussian Naive Bayes <a id='gnb'></a>"
   ]
  },
  {
   "cell_type": "markdown",
   "id": "cdfb4dd8",
   "metadata": {},
   "source": [
    "Firstly, Naive Bayes requires each descriptive feature to follow a Gaussian (normal) distribution, so we perform a power transformation on the input data before model fitting using **PowerTransformer()**. Like Random Forest, a separate pipeline is created for this classifier. Grid search for Gaussian Naive Bayes is done by using **RandomizedSearchCV**.\n",
    "\n",
    "The parameters used for Gaussian Naive Bayes are as follows:\n",
    "- Smoothing value (var_smoothing)\n",
    "- For RFI feature selection, number of features (n_features_)"
   ]
  },
  {
   "cell_type": "markdown",
   "id": "67ac9822",
   "metadata": {},
   "source": [
    "### Model Fitting and Tuning <a id='gnb-fitting-tuning'></a>"
   ]
  },
  {
   "cell_type": "code",
   "execution_count": 35,
   "id": "a6ff3f49",
   "metadata": {},
   "outputs": [],
   "source": [
    "# Fit transform data using PowerTransformer()\n",
    "data_desc_train_transformed = PowerTransformer().fit_transform(data_desc_train)"
   ]
  },
  {
   "cell_type": "code",
   "execution_count": 36,
   "id": "2e7d3571",
   "metadata": {},
   "outputs": [],
   "source": [
    "# NB Model defining for RandomizedSearchCV\n",
    "pipe_NB = Pipeline([('rfi_fs', RFIFeatureSelector()), \n",
    "                     ('nb', GaussianNB())])\n",
    "\n",
    "paramaters_pipe_NB = {'rfi_fs__n_features_': [10, data_desc.shape[1]],\n",
    "                      'nb__var_smoothing': np.logspace(1,-3, num=200)}\n",
    "\n",
    "n_iter_search = 20\n",
    "gs_pipe_NB = RandomizedSearchCV(estimator=pipe_NB, \n",
    "                          param_distributions=paramaters_pipe_NB, \n",
    "                          cv=cv_method,\n",
    "                          refit=True,\n",
    "                          n_jobs=-2,\n",
    "                          scoring='accuracy',\n",
    "                          n_iter=n_iter_search,\n",
    "                          verbose=1)"
   ]
  },
  {
   "cell_type": "code",
   "execution_count": 37,
   "id": "40df901e",
   "metadata": {},
   "outputs": [
    {
     "name": "stdout",
     "output_type": "stream",
     "text": [
      "Fitting 5 folds for each of 20 candidates, totalling 100 fits\n"
     ]
    }
   ],
   "source": [
    "# Model Fitting\n",
    "gs_pipe_NB.fit(data_desc_train_transformed, data_target_train);"
   ]
  },
  {
   "cell_type": "code",
   "execution_count": 38,
   "id": "6c4519af",
   "metadata": {},
   "outputs": [
    {
     "data": {
      "text/plain": [
       "0.8502415458937198"
      ]
     },
     "execution_count": 38,
     "metadata": {},
     "output_type": "execute_result"
    }
   ],
   "source": [
    "# Predicting and generating accuracy score the model\n",
    "data_target_pred_nb = gs_pipe_NB.predict(data_desc_test)\n",
    "metrics.accuracy_score(data_target_test, data_target_pred_nb)"
   ]
  },
  {
   "cell_type": "code",
   "execution_count": 39,
   "id": "366f01ac",
   "metadata": {},
   "outputs": [
    {
     "data": {
      "text/plain": [
       "array([[704,   0],\n",
       "       [124,   0]], dtype=int64)"
      ]
     },
     "execution_count": 39,
     "metadata": {},
     "output_type": "execute_result"
    }
   ],
   "source": [
    "# Confusion matrix\n",
    "metrics.confusion_matrix(data_target_test, data_target_pred_nb)"
   ]
  },
  {
   "cell_type": "code",
   "execution_count": 40,
   "id": "78432af5",
   "metadata": {},
   "outputs": [
    {
     "name": "stdout",
     "output_type": "stream",
     "text": [
      "              precision    recall  f1-score   support\n",
      "\n",
      "           0       0.85      1.00      0.92       704\n",
      "           1       0.00      0.00      0.00       124\n",
      "\n",
      "    accuracy                           0.85       828\n",
      "   macro avg       0.43      0.50      0.46       828\n",
      "weighted avg       0.72      0.85      0.78       828\n",
      "\n"
     ]
    }
   ],
   "source": [
    "# Classification report\n",
    "print(metrics.classification_report(data_target_test, data_target_pred_nb))"
   ]
  },
  {
   "cell_type": "code",
   "execution_count": 41,
   "id": "efb63d29",
   "metadata": {},
   "outputs": [
    {
     "data": {
      "text/plain": [
       "{'rfi_fs__n_features_': 10, 'nb__var_smoothing': 0.9011018251665018}"
      ]
     },
     "execution_count": 41,
     "metadata": {},
     "output_type": "execute_result"
    }
   ],
   "source": [
    "# Obtaining the best parameters\n",
    "gs_pipe_NB.best_params_"
   ]
  },
  {
   "cell_type": "code",
   "execution_count": 42,
   "id": "3b2d6477",
   "metadata": {},
   "outputs": [
    {
     "data": {
      "text/plain": [
       "0.8512694763495755"
      ]
     },
     "execution_count": 42,
     "metadata": {},
     "output_type": "execute_result"
    }
   ],
   "source": [
    "# Obtaining the best accuracy score\n",
    "gs_pipe_NB.best_score_"
   ]
  },
  {
   "cell_type": "markdown",
   "id": "406e618d",
   "metadata": {},
   "source": [
    "From the above result, we observe that the Naive Bayes model has a *mean accuracy score* of **0.85**. The best performing Naive Bayes selected *__10 features__ with var smoothing value __0.9__*."
   ]
  },
  {
   "cell_type": "code",
   "execution_count": 43,
   "id": "e5abed57",
   "metadata": {},
   "outputs": [
    {
     "data": {
      "text/html": [
       "<div>\n",
       "<style scoped>\n",
       "    .dataframe tbody tr th:only-of-type {\n",
       "        vertical-align: middle;\n",
       "    }\n",
       "\n",
       "    .dataframe tbody tr th {\n",
       "        vertical-align: top;\n",
       "    }\n",
       "\n",
       "    .dataframe thead th {\n",
       "        text-align: right;\n",
       "    }\n",
       "</style>\n",
       "<table border=\"1\" class=\"dataframe\">\n",
       "  <thead>\n",
       "    <tr style=\"text-align: right;\">\n",
       "      <th></th>\n",
       "      <th>mean_score</th>\n",
       "      <th>std_score</th>\n",
       "      <th>max_score</th>\n",
       "      <th>min_score</th>\n",
       "      <th>rfi_fs__n_features_</th>\n",
       "      <th>nb__var_smoothing</th>\n",
       "    </tr>\n",
       "  </thead>\n",
       "  <tbody>\n",
       "    <tr>\n",
       "      <th>18</th>\n",
       "      <td>0.851269</td>\n",
       "      <td>0.002463</td>\n",
       "      <td>0.854985</td>\n",
       "      <td>0.847432</td>\n",
       "      <td>10.0</td>\n",
       "      <td>0.901102</td>\n",
       "    </tr>\n",
       "    <tr>\n",
       "      <th>7</th>\n",
       "      <td>0.850966</td>\n",
       "      <td>0.003430</td>\n",
       "      <td>0.856495</td>\n",
       "      <td>0.847201</td>\n",
       "      <td>10.0</td>\n",
       "      <td>1.035322</td>\n",
       "    </tr>\n",
       "    <tr>\n",
       "      <th>11</th>\n",
       "      <td>0.850061</td>\n",
       "      <td>0.000568</td>\n",
       "      <td>0.850453</td>\n",
       "      <td>0.848943</td>\n",
       "      <td>10.0</td>\n",
       "      <td>7.934097</td>\n",
       "    </tr>\n",
       "    <tr>\n",
       "      <th>15</th>\n",
       "      <td>0.848852</td>\n",
       "      <td>0.001841</td>\n",
       "      <td>0.850453</td>\n",
       "      <td>0.845921</td>\n",
       "      <td>18.0</td>\n",
       "      <td>7.934097</td>\n",
       "    </tr>\n",
       "    <tr>\n",
       "      <th>8</th>\n",
       "      <td>0.848247</td>\n",
       "      <td>0.003095</td>\n",
       "      <td>0.853474</td>\n",
       "      <td>0.844411</td>\n",
       "      <td>18.0</td>\n",
       "      <td>3.292971</td>\n",
       "    </tr>\n",
       "  </tbody>\n",
       "</table>\n",
       "</div>"
      ],
      "text/plain": [
       "    mean_score  std_score  max_score  min_score  rfi_fs__n_features_  \\\n",
       "18    0.851269   0.002463   0.854985   0.847432                 10.0   \n",
       "7     0.850966   0.003430   0.856495   0.847201                 10.0   \n",
       "11    0.850061   0.000568   0.850453   0.848943                 10.0   \n",
       "15    0.848852   0.001841   0.850453   0.845921                 18.0   \n",
       "8     0.848247   0.003095   0.853474   0.844411                 18.0   \n",
       "\n",
       "    nb__var_smoothing  \n",
       "18           0.901102  \n",
       "7            1.035322  \n",
       "11           7.934097  \n",
       "15           7.934097  \n",
       "8            3.292971  "
      ]
     },
     "execution_count": 43,
     "metadata": {},
     "output_type": "execute_result"
    }
   ],
   "source": [
    "results_NB = get_search_results(gs_pipe_NB)\n",
    "results_NB.head()"
   ]
  },
  {
   "cell_type": "markdown",
   "id": "365ba97e",
   "metadata": {},
   "source": [
    "From above result, we can see clearly that there is not much difference between the hyper parameter combinations when number of features selected is chosen to be the condition. Hence, we can plot and visualize the results of randomized grid search with respect to 10 features."
   ]
  },
  {
   "cell_type": "code",
   "execution_count": 44,
   "id": "b7ad6a6b",
   "metadata": {},
   "outputs": [
    {
     "data": {
      "image/png": "[encoded data removed]",
      "text/plain": [
       "<Figure size 432x288 with 1 Axes>"
      ]
     },
     "metadata": {
      "image/png": {
       "height": 281,
       "width": 430
      }
     },
     "output_type": "display_data"
    }
   ],
   "source": [
    "# Plotting results of randomized grid search wrt 10 features\n",
    "results_NB_10f = results_NB[results_NB['rfi_fs__n_features_'] == 10.0].sort_values('nb__var_smoothing')\n",
    "\n",
    "plt.plot(results_NB_10f['nb__var_smoothing'], results_NB_10f['mean_score'], marker = '.', label = i)    \n",
    "plt.xlabel('Var. Smoothing')\n",
    "plt.ylabel(\"Accuracy Score\")\n",
    "plt.title(\"Naive Bayers Performance Comparison with 10 Features\")\n",
    "plt.show()"
   ]
  },
  {
   "cell_type": "markdown",
   "id": "f8c928c9",
   "metadata": {},
   "source": [
    "From the above plot, we could see that when var_smoothing value is 0.9, we achieve a higher accuracy."
   ]
  },
  {
   "cell_type": "markdown",
   "id": "c539ee60",
   "metadata": {},
   "source": [
    "## Support Vector Machine <a id='svm'></a>"
   ]
  },
  {
   "cell_type": "markdown",
   "id": "09116ef6",
   "metadata": {},
   "source": [
    "Like the earlier models, we stack feature selection and grid search for SVM hyper parameter tuning via cross-validation using a pipeline. Grid search for SVM is done by using **GridSearchCV**.\n",
    "\n",
    "The parameters used for SVM are as follows:\n",
    "- C value (C)\n",
    "- Type of Kernel (kernel)\n",
    "- For RFI feature selection, number of features (n_features_)\n",
    "\n",
    "The default values for C is 1.0 and kernel is 'rbf' but here we use GridSearchCV to go over various C values and all types of kernels."
   ]
  },
  {
   "cell_type": "markdown",
   "id": "652666ce",
   "metadata": {},
   "source": [
    "### Model Fitting and Tuning <a id='svm-fitting-tuning'></a>"
   ]
  },
  {
   "cell_type": "code",
   "execution_count": 45,
   "id": "ba2c7836",
   "metadata": {},
   "outputs": [],
   "source": [
    "# NB Model defining for RandomizedSearchCV\n",
    "pipe_svm = Pipeline([('rfi_fs', RFIFeatureSelector()), \n",
    "                     ('svm', SVC())])\n",
    "\n",
    "parameters_pipe_svm = {'rfi_fs__n_features_': [10, data_desc.shape[1]],\n",
    "                      'svm__kernel': ['linear','poly', 'rbf', 'sigmoid', 'precomputed'],\n",
    "                      'svm__C': [1.0, 2.0, 4.0, 6.0, 8.0, 10.0]}\n",
    "\n",
    "gs_pipe_svm = GridSearchCV(estimator=pipe_svm, \n",
    "                           param_grid=parameters_pipe_svm, \n",
    "                           cv=cv_method,\n",
    "                           refit=True,\n",
    "                           n_jobs=-2,\n",
    "                           scoring='accuracy',\n",
    "                           verbose=1)"
   ]
  },
  {
   "cell_type": "code",
   "execution_count": 46,
   "id": "b77245ce",
   "metadata": {},
   "outputs": [
    {
     "name": "stdout",
     "output_type": "stream",
     "text": [
      "Fitting 5 folds for each of 60 candidates, totalling 300 fits\n"
     ]
    }
   ],
   "source": [
    "# Model Fitting\n",
    "gs_pipe_svm.fit(data_desc_train_transformed, data_target_train);"
   ]
  },
  {
   "cell_type": "code",
   "execution_count": 47,
   "id": "5f734203",
   "metadata": {},
   "outputs": [
    {
     "data": {
      "text/plain": [
       "0.8502415458937198"
      ]
     },
     "execution_count": 47,
     "metadata": {},
     "output_type": "execute_result"
    }
   ],
   "source": [
    "# Predicting and generating accuracy score the model\n",
    "data_target_pred_svm = gs_pipe_svm.predict(data_desc_test)\n",
    "metrics.accuracy_score(data_target_test, data_target_pred_svm)"
   ]
  },
  {
   "cell_type": "code",
   "execution_count": 48,
   "id": "6f721cd0",
   "metadata": {},
   "outputs": [
    {
     "data": {
      "text/plain": [
       "array([[704,   0],\n",
       "       [124,   0]], dtype=int64)"
      ]
     },
     "execution_count": 48,
     "metadata": {},
     "output_type": "execute_result"
    }
   ],
   "source": [
    "# Confusion matrix\n",
    "metrics.confusion_matrix(data_target_test, data_target_pred_svm)"
   ]
  },
  {
   "cell_type": "code",
   "execution_count": 49,
   "id": "563ce16e",
   "metadata": {},
   "outputs": [
    {
     "name": "stdout",
     "output_type": "stream",
     "text": [
      "              precision    recall  f1-score   support\n",
      "\n",
      "           0       0.85      1.00      0.92       704\n",
      "           1       0.00      0.00      0.00       124\n",
      "\n",
      "    accuracy                           0.85       828\n",
      "   macro avg       0.43      0.50      0.46       828\n",
      "weighted avg       0.72      0.85      0.78       828\n",
      "\n"
     ]
    }
   ],
   "source": [
    "# Classification report\n",
    "print(metrics.classification_report(data_target_test, data_target_pred_svm))"
   ]
  },
  {
   "cell_type": "code",
   "execution_count": 50,
   "id": "99289b53",
   "metadata": {},
   "outputs": [
    {
     "data": {
      "text/plain": [
       "{'rfi_fs__n_features_': 10, 'svm__C': 1.0, 'svm__kernel': 'linear'}"
      ]
     },
     "execution_count": 50,
     "metadata": {},
     "output_type": "execute_result"
    }
   ],
   "source": [
    "# Obtaining the best parameters\n",
    "gs_pipe_svm.best_params_"
   ]
  },
  {
   "cell_type": "code",
   "execution_count": 51,
   "id": "8409b04f",
   "metadata": {},
   "outputs": [
    {
     "data": {
      "text/plain": [
       "0.8500605600778826"
      ]
     },
     "execution_count": 51,
     "metadata": {},
     "output_type": "execute_result"
    }
   ],
   "source": [
    "# Obtaining the best accuracy score\n",
    "gs_pipe_svm.best_score_"
   ]
  },
  {
   "cell_type": "markdown",
   "id": "b9edb81b",
   "metadata": {},
   "source": [
    "From the above result, we observe that the Support Vector Machine model has a *mean accuracy score* of **0.85**. The best performing SVM selected *__10 features__ with __1.0__ as C value and kernel as __linear__*."
   ]
  },
  {
   "cell_type": "code",
   "execution_count": 52,
   "id": "fa39f6c2",
   "metadata": {},
   "outputs": [
    {
     "data": {
      "text/html": [
       "<div>\n",
       "<style scoped>\n",
       "    .dataframe tbody tr th:only-of-type {\n",
       "        vertical-align: middle;\n",
       "    }\n",
       "\n",
       "    .dataframe tbody tr th {\n",
       "        vertical-align: top;\n",
       "    }\n",
       "\n",
       "    .dataframe thead th {\n",
       "        text-align: right;\n",
       "    }\n",
       "</style>\n",
       "<table border=\"1\" class=\"dataframe\">\n",
       "  <thead>\n",
       "    <tr style=\"text-align: right;\">\n",
       "      <th></th>\n",
       "      <th>mean_score</th>\n",
       "      <th>std_score</th>\n",
       "      <th>max_score</th>\n",
       "      <th>min_score</th>\n",
       "      <th>rfi_fs__n_features_</th>\n",
       "      <th>svm__C</th>\n",
       "      <th>svm__kernel</th>\n",
       "    </tr>\n",
       "  </thead>\n",
       "  <tbody>\n",
       "    <tr>\n",
       "      <th>11</th>\n",
       "      <td>0.854898</td>\n",
       "      <td>0.001255</td>\n",
       "      <td>0.856278</td>\n",
       "      <td>0.853474</td>\n",
       "      <td>10</td>\n",
       "      <td>4.0</td>\n",
       "      <td>poly</td>\n",
       "    </tr>\n",
       "    <tr>\n",
       "      <th>6</th>\n",
       "      <td>0.854898</td>\n",
       "      <td>0.002656</td>\n",
       "      <td>0.858006</td>\n",
       "      <td>0.851964</td>\n",
       "      <td>10</td>\n",
       "      <td>2.0</td>\n",
       "      <td>poly</td>\n",
       "    </tr>\n",
       "    <tr>\n",
       "      <th>16</th>\n",
       "      <td>0.854596</td>\n",
       "      <td>0.001673</td>\n",
       "      <td>0.856278</td>\n",
       "      <td>0.851964</td>\n",
       "      <td>10</td>\n",
       "      <td>6.0</td>\n",
       "      <td>poly</td>\n",
       "    </tr>\n",
       "    <tr>\n",
       "      <th>26</th>\n",
       "      <td>0.854293</td>\n",
       "      <td>0.001111</td>\n",
       "      <td>0.856278</td>\n",
       "      <td>0.853474</td>\n",
       "      <td>10</td>\n",
       "      <td>10.0</td>\n",
       "      <td>poly</td>\n",
       "    </tr>\n",
       "    <tr>\n",
       "      <th>21</th>\n",
       "      <td>0.854293</td>\n",
       "      <td>0.001111</td>\n",
       "      <td>0.856278</td>\n",
       "      <td>0.853474</td>\n",
       "      <td>10</td>\n",
       "      <td>8.0</td>\n",
       "      <td>poly</td>\n",
       "    </tr>\n",
       "  </tbody>\n",
       "</table>\n",
       "</div>"
      ],
      "text/plain": [
       "   mean_score std_score max_score min_score rfi_fs__n_features_ svm__C  \\\n",
       "11   0.854898  0.001255  0.856278  0.853474                  10    4.0   \n",
       "6    0.854898  0.002656  0.858006  0.851964                  10    2.0   \n",
       "16   0.854596  0.001673  0.856278  0.851964                  10    6.0   \n",
       "26   0.854293  0.001111  0.856278  0.853474                  10   10.0   \n",
       "21   0.854293  0.001111  0.856278  0.853474                  10    8.0   \n",
       "\n",
       "   svm__kernel  \n",
       "11        poly  \n",
       "6         poly  \n",
       "16        poly  \n",
       "26        poly  \n",
       "21        poly  "
      ]
     },
     "execution_count": 52,
     "metadata": {},
     "output_type": "execute_result"
    }
   ],
   "source": [
    "results_svm = get_search_results(gs_pipe_svm)\n",
    "results_svm.head()"
   ]
  },
  {
   "cell_type": "markdown",
   "id": "456b8b0d",
   "metadata": {},
   "source": [
    "From above result, we can see clearly that there is not much difference between the hyper parameter combinations when number of features selected is chosen to be the condition. Hence, we can plot and visualize the results of grid search with respect to 10 features."
   ]
  },
  {
   "cell_type": "code",
   "execution_count": 53,
   "id": "5d20f199",
   "metadata": {},
   "outputs": [
    {
     "data": {
      "image/png": "[encoded data removed]",
      "text/plain": [
       "<Figure size 432x288 with 1 Axes>"
      ]
     },
     "metadata": {
      "image/png": {
       "height": 281,
       "width": 398
      }
     },
     "output_type": "display_data"
    }
   ],
   "source": [
    "# Plotting results of randomized grid search wrt 10 features\n",
    "results_svm_10f = results_svm[results_svm['rfi_fs__n_features_'] == 10.0]\n",
    "\n",
    "for i in results_svm_10f['svm__kernel'].unique():\n",
    "    temp = results_svm_10f[results_svm_10f['svm__kernel'] == i]\n",
    "    plt.plot(temp['svm__C'], temp['mean_score'], marker = '.', label = i)\n",
    "    \n",
    "plt.legend(title = \"Kernel\")\n",
    "plt.xlabel('C')\n",
    "plt.ylabel(\"Accuracy Score\")\n",
    "plt.title(\"SVM Performance Comparison with 10 Features\")\n",
    "plt.show()"
   ]
  },
  {
   "cell_type": "markdown",
   "id": "5ffb3300",
   "metadata": {},
   "source": [
    "From the above plot, we could see that as C value increases, the accuracy score varies with respect to the type of kernel. "
   ]
  },
  {
   "cell_type": "markdown",
   "id": "45961800",
   "metadata": {},
   "source": [
    "## K-Nearest Neighbor Classifier <a id='knn'></a>"
   ]
  },
  {
   "cell_type": "markdown",
   "id": "a6b6c3c3",
   "metadata": {},
   "source": [
    "Same as above, we stack feature selection and grid search for KNN hyper parameter tuning via cross-validation using a pipeline. Grid search for KNN is done by using **RandomizedSearchCV**.\n",
    "\n",
    "The parameters used for KNN are as follows:\n",
    "- Number of neighbors (n_neighbors)\n",
    "- p value (p)\n",
    "- For RFI feature selection, number of features (n_features_)\n",
    "\n",
    "The default value of minkowski distance (p) is 2 which is Euclidean distance and here we use RandomizedSearchCV to go over both the distance types Manhattan and Euclidean by selecting various neighbor values."
   ]
  },
  {
   "cell_type": "markdown",
   "id": "4190c56c",
   "metadata": {},
   "source": [
    "### Model Fitting and Tuning <a id='knn-fitting-tuning'></a>"
   ]
  },
  {
   "cell_type": "code",
   "execution_count": 54,
   "id": "99af0fe0",
   "metadata": {},
   "outputs": [],
   "source": [
    "pipe_knn = Pipeline(steps=[('rfi_fs', RFIFeatureSelector()), \n",
    "                           ('knn', KNeighborsClassifier())])\n",
    "\n",
    "parameter_pipe_knn = {'rfi_fs__n_features_': [10, data_desc.shape[1]],\n",
    "                   'knn__n_neighbors': [5, 10, 15, 20, 25, 30],\n",
    "                   'knn__p': [1, 2]}\n",
    "\n",
    "n_iter_search = 20\n",
    "gs_pipe_knn = RandomizedSearchCV(estimator=pipe_knn, \n",
    "                          param_distributions=parameter_pipe_knn, \n",
    "                          cv=cv_method,\n",
    "                          refit=True,\n",
    "                          n_jobs=-2,\n",
    "                          scoring='accuracy',\n",
    "                          n_iter=n_iter_search,\n",
    "                          verbose=1)"
   ]
  },
  {
   "cell_type": "code",
   "execution_count": 55,
   "id": "7598d3f7",
   "metadata": {},
   "outputs": [
    {
     "name": "stdout",
     "output_type": "stream",
     "text": [
      "Fitting 5 folds for each of 20 candidates, totalling 100 fits\n"
     ]
    }
   ],
   "source": [
    "gs_pipe_knn.fit(data_desc_train, data_target_train);"
   ]
  },
  {
   "cell_type": "code",
   "execution_count": 56,
   "id": "422e1535",
   "metadata": {},
   "outputs": [
    {
     "data": {
      "text/plain": [
       "0.8514492753623188"
      ]
     },
     "execution_count": 56,
     "metadata": {},
     "output_type": "execute_result"
    }
   ],
   "source": [
    "# Predicting and generating accuracy score the model\n",
    "data_target_pred_knn = gs_pipe_knn.predict(data_desc_test)\n",
    "metrics.accuracy_score(data_target_test, data_target_pred_knn)"
   ]
  },
  {
   "cell_type": "code",
   "execution_count": 57,
   "id": "14dd996c",
   "metadata": {},
   "outputs": [
    {
     "data": {
      "text/plain": [
       "array([[701,   3],\n",
       "       [120,   4]], dtype=int64)"
      ]
     },
     "execution_count": 57,
     "metadata": {},
     "output_type": "execute_result"
    }
   ],
   "source": [
    "# Confusion matrix\n",
    "metrics.confusion_matrix(data_target_test, data_target_pred_knn)"
   ]
  },
  {
   "cell_type": "code",
   "execution_count": 58,
   "id": "c908592b",
   "metadata": {},
   "outputs": [
    {
     "name": "stdout",
     "output_type": "stream",
     "text": [
      "              precision    recall  f1-score   support\n",
      "\n",
      "           0       0.85      1.00      0.92       704\n",
      "           1       0.57      0.03      0.06       124\n",
      "\n",
      "    accuracy                           0.85       828\n",
      "   macro avg       0.71      0.51      0.49       828\n",
      "weighted avg       0.81      0.85      0.79       828\n",
      "\n"
     ]
    }
   ],
   "source": [
    "# Classification report\n",
    "print(metrics.classification_report(data_target_test, data_target_pred_knn))"
   ]
  },
  {
   "cell_type": "code",
   "execution_count": 59,
   "id": "03b189ef",
   "metadata": {},
   "outputs": [
    {
     "data": {
      "text/plain": [
       "{'rfi_fs__n_features_': 10, 'knn__p': 2, 'knn__n_neighbors': 10}"
      ]
     },
     "execution_count": 59,
     "metadata": {},
     "output_type": "execute_result"
    }
   ],
   "source": [
    "gs_pipe_knn.best_params_"
   ]
  },
  {
   "cell_type": "code",
   "execution_count": 60,
   "id": "2f17caeb",
   "metadata": {},
   "outputs": [
    {
     "data": {
      "text/plain": [
       "0.8524793067356518"
      ]
     },
     "execution_count": 60,
     "metadata": {},
     "output_type": "execute_result"
    }
   ],
   "source": [
    "gs_pipe_knn.best_score_"
   ]
  },
  {
   "cell_type": "markdown",
   "id": "67c875fc",
   "metadata": {},
   "source": [
    "From the above result, we observe that the KNN model has a *mean accuracy score* of **0.85**. The best performing KNN selected *__10 features__ with __2__ as p value and __10__ as neighbors*."
   ]
  },
  {
   "cell_type": "code",
   "execution_count": 61,
   "id": "dd68e025",
   "metadata": {},
   "outputs": [
    {
     "data": {
      "text/html": [
       "<div>\n",
       "<style scoped>\n",
       "    .dataframe tbody tr th:only-of-type {\n",
       "        vertical-align: middle;\n",
       "    }\n",
       "\n",
       "    .dataframe tbody tr th {\n",
       "        vertical-align: top;\n",
       "    }\n",
       "\n",
       "    .dataframe thead th {\n",
       "        text-align: right;\n",
       "    }\n",
       "</style>\n",
       "<table border=\"1\" class=\"dataframe\">\n",
       "  <thead>\n",
       "    <tr style=\"text-align: right;\">\n",
       "      <th></th>\n",
       "      <th>mean_score</th>\n",
       "      <th>std_score</th>\n",
       "      <th>max_score</th>\n",
       "      <th>min_score</th>\n",
       "      <th>rfi_fs__n_features_</th>\n",
       "      <th>knn__p</th>\n",
       "      <th>knn__n_neighbors</th>\n",
       "    </tr>\n",
       "  </thead>\n",
       "  <tbody>\n",
       "    <tr>\n",
       "      <th>15</th>\n",
       "      <td>0.852479</td>\n",
       "      <td>0.003877</td>\n",
       "      <td>0.857791</td>\n",
       "      <td>0.847432</td>\n",
       "      <td>10.0</td>\n",
       "      <td>2.0</td>\n",
       "      <td>10.0</td>\n",
       "    </tr>\n",
       "    <tr>\n",
       "      <th>16</th>\n",
       "      <td>0.851874</td>\n",
       "      <td>0.001405</td>\n",
       "      <td>0.853474</td>\n",
       "      <td>0.850227</td>\n",
       "      <td>10.0</td>\n",
       "      <td>2.0</td>\n",
       "      <td>25.0</td>\n",
       "    </tr>\n",
       "    <tr>\n",
       "      <th>2</th>\n",
       "      <td>0.850967</td>\n",
       "      <td>0.000730</td>\n",
       "      <td>0.851964</td>\n",
       "      <td>0.850227</td>\n",
       "      <td>10.0</td>\n",
       "      <td>1.0</td>\n",
       "      <td>25.0</td>\n",
       "    </tr>\n",
       "    <tr>\n",
       "      <th>9</th>\n",
       "      <td>0.850967</td>\n",
       "      <td>0.001203</td>\n",
       "      <td>0.851964</td>\n",
       "      <td>0.848943</td>\n",
       "      <td>10.0</td>\n",
       "      <td>1.0</td>\n",
       "      <td>20.0</td>\n",
       "    </tr>\n",
       "    <tr>\n",
       "      <th>8</th>\n",
       "      <td>0.850664</td>\n",
       "      <td>0.002488</td>\n",
       "      <td>0.853474</td>\n",
       "      <td>0.847201</td>\n",
       "      <td>10.0</td>\n",
       "      <td>2.0</td>\n",
       "      <td>20.0</td>\n",
       "    </tr>\n",
       "  </tbody>\n",
       "</table>\n",
       "</div>"
      ],
      "text/plain": [
       "    mean_score  std_score  max_score  min_score  rfi_fs__n_features_  knn__p  \\\n",
       "15    0.852479   0.003877   0.857791   0.847432                 10.0     2.0   \n",
       "16    0.851874   0.001405   0.853474   0.850227                 10.0     2.0   \n",
       "2     0.850967   0.000730   0.851964   0.850227                 10.0     1.0   \n",
       "9     0.850967   0.001203   0.851964   0.848943                 10.0     1.0   \n",
       "8     0.850664   0.002488   0.853474   0.847201                 10.0     2.0   \n",
       "\n",
       "    knn__n_neighbors  \n",
       "15              10.0  \n",
       "16              25.0  \n",
       "2               25.0  \n",
       "9               20.0  \n",
       "8               20.0  "
      ]
     },
     "execution_count": 61,
     "metadata": {},
     "output_type": "execute_result"
    }
   ],
   "source": [
    "results_knn = get_search_results(gs_pipe_knn)\n",
    "results_knn.head()"
   ]
  },
  {
   "cell_type": "markdown",
   "id": "f3f77545",
   "metadata": {},
   "source": [
    "From above result, we can see clearly that there is not much difference between the hyper parameter combinations when number of features selected is chosen to be the condition. Hence, we can plot and visualize the results of grid search with respect to 10 features."
   ]
  },
  {
   "cell_type": "code",
   "execution_count": 62,
   "id": "e35f3afb",
   "metadata": {},
   "outputs": [
    {
     "data": {
      "image/png": "[encoded data removed]",
      "text/plain": [
       "<Figure size 432x288 with 1 Axes>"
      ]
     },
     "metadata": {
      "image/png": {
       "height": 281,
       "width": 404
      }
     },
     "output_type": "display_data"
    }
   ],
   "source": [
    "results_knn_10f = results_knn[results_knn['rfi_fs__n_features_'] == 10.0]\n",
    "\n",
    "for i in results_knn_10f['knn__p'].unique():\n",
    "    temp = results_knn_10f[results_knn_10f['knn__p'] == i]\n",
    "    plt.plot(temp['knn__n_neighbors'], temp['mean_score'], marker = '.', label = i)\n",
    "    \n",
    "plt.legend(title = \"p\")\n",
    "plt.xlabel('Number of Neighbors')\n",
    "plt.ylabel(\"Accuracy Score\")\n",
    "plt.title(\"KNN Performance Comparison with 10 Features\")\n",
    "plt.show()"
   ]
  },
  {
   "cell_type": "markdown",
   "id": "de37dc1d",
   "metadata": {},
   "source": [
    "From the above plot, we could see that with Euclidean distance (p=2) and number of neighbors is 10, we achieve a higher accuracy."
   ]
  },
  {
   "cell_type": "markdown",
   "id": "00facf30",
   "metadata": {},
   "source": [
    "## Decision Tree Classifier <a id='dt'></a>"
   ]
  },
  {
   "cell_type": "markdown",
   "id": "ac48a344",
   "metadata": {},
   "source": [
    "Similar to other classifiers, we stack feature selection and grid search for Decision Tree hyper parameter tuning via cross-validation using a pipeline. Grid search for Decision Tree is done by using **GridSearchCV**.\n",
    "\n",
    "The parameters used for Decision Tree are as follows:\n",
    "- Minimum samples split (min_samples_split)\n",
    "- Maximum depth (max_depth)\n",
    "- For RFI feature selection, number of features (n_features_)\n",
    "\n",
    "Here we use GridSearchCV to go over various values of max_depth and min_samples_split with 'gini' as the criterion to maximize information gain and random_state of 111."
   ]
  },
  {
   "cell_type": "markdown",
   "id": "6c0dfc69",
   "metadata": {},
   "source": [
    "### Model Fitting and Tuning <a id='dt-fitting-tuning'></a>"
   ]
  },
  {
   "cell_type": "code",
   "execution_count": 63,
   "id": "f66b8d2d",
   "metadata": {},
   "outputs": [],
   "source": [
    "pipe_dt = Pipeline([('rfi_fs', RFIFeatureSelector()),\n",
    "                    ('dt', DecisionTreeClassifier(criterion='gini', random_state=111))])\n",
    "\n",
    "parameter_pipe_dt = {'rfi_fs__n_features_': [10, data_desc.shape[1]],\n",
    "                      'dt__max_depth': [3.0, 5.0, 8.0, 10.0],\n",
    "                      'dt__min_samples_split': [4, 10, 20, 50, 70, 100]}\n",
    "\n",
    "gs_pipe_dt = GridSearchCV(estimator=pipe_dt, \n",
    "                          param_grid=parameter_pipe_dt, \n",
    "                          cv=cv_method,\n",
    "                          refit=True,\n",
    "                          n_jobs=-2,\n",
    "                          scoring='accuracy',\n",
    "                          verbose=1)"
   ]
  },
  {
   "cell_type": "code",
   "execution_count": 64,
   "id": "af9903ff",
   "metadata": {},
   "outputs": [
    {
     "name": "stdout",
     "output_type": "stream",
     "text": [
      "Fitting 5 folds for each of 48 candidates, totalling 240 fits\n"
     ]
    }
   ],
   "source": [
    "gs_pipe_dt.fit(data_desc_train, data_target_train);"
   ]
  },
  {
   "cell_type": "code",
   "execution_count": 65,
   "id": "cab964e4",
   "metadata": {},
   "outputs": [
    {
     "data": {
      "text/plain": [
       "0.8393719806763285"
      ]
     },
     "execution_count": 65,
     "metadata": {},
     "output_type": "execute_result"
    }
   ],
   "source": [
    "# Predicting and generating accuracy score the model\n",
    "data_target_pred_dt = gs_pipe_dt.predict(data_desc_test)\n",
    "metrics.accuracy_score(data_target_test, data_target_pred_dt)"
   ]
  },
  {
   "cell_type": "code",
   "execution_count": 66,
   "id": "4d9443ce",
   "metadata": {},
   "outputs": [
    {
     "data": {
      "text/plain": [
       "array([[692,  12],\n",
       "       [121,   3]], dtype=int64)"
      ]
     },
     "execution_count": 66,
     "metadata": {},
     "output_type": "execute_result"
    }
   ],
   "source": [
    "# Confusion matrix\n",
    "metrics.confusion_matrix(data_target_test, data_target_pred_dt)"
   ]
  },
  {
   "cell_type": "code",
   "execution_count": 67,
   "id": "e0ccba09",
   "metadata": {},
   "outputs": [
    {
     "name": "stdout",
     "output_type": "stream",
     "text": [
      "              precision    recall  f1-score   support\n",
      "\n",
      "           0       0.85      0.98      0.91       704\n",
      "           1       0.20      0.02      0.04       124\n",
      "\n",
      "    accuracy                           0.84       828\n",
      "   macro avg       0.53      0.50      0.48       828\n",
      "weighted avg       0.75      0.84      0.78       828\n",
      "\n"
     ]
    }
   ],
   "source": [
    "# Classification report\n",
    "print(metrics.classification_report(data_target_test, data_target_pred_dt))"
   ]
  },
  {
   "cell_type": "code",
   "execution_count": 68,
   "id": "2d44d3ff",
   "metadata": {},
   "outputs": [
    {
     "data": {
      "text/plain": [
       "{'dt__max_depth': 3.0, 'dt__min_samples_split': 4, 'rfi_fs__n_features_': 10}"
      ]
     },
     "execution_count": 68,
     "metadata": {},
     "output_type": "execute_result"
    }
   ],
   "source": [
    "gs_pipe_dt.best_params_"
   ]
  },
  {
   "cell_type": "code",
   "execution_count": 69,
   "id": "54da3e66",
   "metadata": {},
   "outputs": [
    {
     "data": {
      "text/plain": [
       "0.8464356394915695"
      ]
     },
     "execution_count": 69,
     "metadata": {},
     "output_type": "execute_result"
    }
   ],
   "source": [
    "gs_pipe_dt.best_score_"
   ]
  },
  {
   "cell_type": "markdown",
   "id": "a44553f0",
   "metadata": {},
   "source": [
    "From the above result, we observe that the Decision Tree Classifier model has a *mean accuracy score* of **0.85**. The best performing DT selected *__10 features__ with __3.0__ as max_depth value and min_samples_split as __4__*."
   ]
  },
  {
   "cell_type": "code",
   "execution_count": 70,
   "id": "74290127",
   "metadata": {},
   "outputs": [
    {
     "data": {
      "text/html": [
       "<div>\n",
       "<style scoped>\n",
       "    .dataframe tbody tr th:only-of-type {\n",
       "        vertical-align: middle;\n",
       "    }\n",
       "\n",
       "    .dataframe tbody tr th {\n",
       "        vertical-align: top;\n",
       "    }\n",
       "\n",
       "    .dataframe thead th {\n",
       "        text-align: right;\n",
       "    }\n",
       "</style>\n",
       "<table border=\"1\" class=\"dataframe\">\n",
       "  <thead>\n",
       "    <tr style=\"text-align: right;\">\n",
       "      <th></th>\n",
       "      <th>mean_score</th>\n",
       "      <th>std_score</th>\n",
       "      <th>max_score</th>\n",
       "      <th>min_score</th>\n",
       "      <th>dt__max_depth</th>\n",
       "      <th>dt__min_samples_split</th>\n",
       "      <th>rfi_fs__n_features_</th>\n",
       "    </tr>\n",
       "  </thead>\n",
       "  <tbody>\n",
       "    <tr>\n",
       "      <th>0</th>\n",
       "      <td>0.846436</td>\n",
       "      <td>0.005787</td>\n",
       "      <td>0.85174</td>\n",
       "      <td>0.835347</td>\n",
       "      <td>3.0</td>\n",
       "      <td>4.0</td>\n",
       "      <td>10.0</td>\n",
       "    </tr>\n",
       "    <tr>\n",
       "      <th>2</th>\n",
       "      <td>0.845831</td>\n",
       "      <td>0.005809</td>\n",
       "      <td>0.85174</td>\n",
       "      <td>0.835347</td>\n",
       "      <td>3.0</td>\n",
       "      <td>10.0</td>\n",
       "      <td>10.0</td>\n",
       "    </tr>\n",
       "    <tr>\n",
       "      <th>1</th>\n",
       "      <td>0.845830</td>\n",
       "      <td>0.005510</td>\n",
       "      <td>0.85174</td>\n",
       "      <td>0.835347</td>\n",
       "      <td>3.0</td>\n",
       "      <td>4.0</td>\n",
       "      <td>18.0</td>\n",
       "    </tr>\n",
       "    <tr>\n",
       "      <th>4</th>\n",
       "      <td>0.845529</td>\n",
       "      <td>0.005608</td>\n",
       "      <td>0.85174</td>\n",
       "      <td>0.835347</td>\n",
       "      <td>3.0</td>\n",
       "      <td>20.0</td>\n",
       "      <td>10.0</td>\n",
       "    </tr>\n",
       "    <tr>\n",
       "      <th>5</th>\n",
       "      <td>0.845529</td>\n",
       "      <td>0.005608</td>\n",
       "      <td>0.85174</td>\n",
       "      <td>0.835347</td>\n",
       "      <td>3.0</td>\n",
       "      <td>20.0</td>\n",
       "      <td>18.0</td>\n",
       "    </tr>\n",
       "  </tbody>\n",
       "</table>\n",
       "</div>"
      ],
      "text/plain": [
       "   mean_score  std_score  max_score  min_score  dt__max_depth  \\\n",
       "0    0.846436   0.005787    0.85174   0.835347            3.0   \n",
       "2    0.845831   0.005809    0.85174   0.835347            3.0   \n",
       "1    0.845830   0.005510    0.85174   0.835347            3.0   \n",
       "4    0.845529   0.005608    0.85174   0.835347            3.0   \n",
       "5    0.845529   0.005608    0.85174   0.835347            3.0   \n",
       "\n",
       "   dt__min_samples_split  rfi_fs__n_features_  \n",
       "0                    4.0                 10.0  \n",
       "2                   10.0                 10.0  \n",
       "1                    4.0                 18.0  \n",
       "4                   20.0                 10.0  \n",
       "5                   20.0                 18.0  "
      ]
     },
     "execution_count": 70,
     "metadata": {},
     "output_type": "execute_result"
    }
   ],
   "source": [
    "results_dt = get_search_results(gs_pipe_dt)\n",
    "results_dt.head()"
   ]
  },
  {
   "cell_type": "markdown",
   "id": "1bfbe70a",
   "metadata": {},
   "source": [
    "From above result, we can see clearly that there is not much difference between the hyper parameter combinations when number of features selected is chosen to be the condition. Hence, we can plot and visualize the results of grid search with respect to 10 features."
   ]
  },
  {
   "cell_type": "code",
   "execution_count": 71,
   "id": "387cd989",
   "metadata": {},
   "outputs": [
    {
     "data": {
      "image/png": "[encoded data removed]",
      "text/plain": [
       "<Figure size 432x288 with 1 Axes>"
      ]
     },
     "metadata": {
      "image/png": {
       "height": 281,
       "width": 437
      }
     },
     "output_type": "display_data"
    }
   ],
   "source": [
    "results_dt_10f = results_dt[results_dt['rfi_fs__n_features_'] == 10.0]\n",
    "for i in results_dt_10f['dt__max_depth'].unique():\n",
    "    temp = results_dt_10f[results_dt_10f['dt__max_depth'] == i]\n",
    "    plt.plot(temp['dt__min_samples_split'], temp['mean_score'], marker = '.', label = i)\n",
    "    \n",
    "plt.legend(title = \"Max Depth\")\n",
    "plt.xlabel('Minimum Samples for Split')\n",
    "plt.ylabel(\"Accuracy Score\")\n",
    "plt.title(\"Decision Tree Performance Comparison with 10 Features\")\n",
    "plt.show()"
   ]
  },
  {
   "cell_type": "markdown",
   "id": "06db9dff",
   "metadata": {},
   "source": [
    "From the above plot, we could see that accuracy score varies as max_depth and min_samples_split changes."
   ]
  },
  {
   "cell_type": "markdown",
   "id": "e9a45f6f",
   "metadata": {},
   "source": [
    "## Neural Network Model<a id='NN'></a>"
   ]
  },
  {
   "attachments": {
    "image.png": {
     "image/png": "[encoded data removed]"
    }
   },
   "cell_type": "markdown",
   "id": "1ad840ac",
   "metadata": {},
   "source": [
    "Neural Networks are a sequence of computational models in Machine Learning that is inspired by the structure and functioning capability of human biological brain. They can be used to make classifications, identify patterns in the data and make predictions even in many non-linear data like image or speech recognition. In this analysis, we also performed neural network analysis on our data to predict our target feature **‘Heart_stroke’**. \n",
    "\n",
    "#### Task Modeling: \n",
    "As the first step of our neural network analysis, we installed the necessary packages such as tensorflow and keras. The cleaned dataset has been split into 80:20 ratio for the training and test datasets. In our analysis, 2 hidden layers were used to evaluate the models. The topology for the same can be explained as that the model consists of 4 layers namely Input layer which is our scaled descriptive features, output layer i.e. our target feature and 2 hidden layers. The number of neurons on the hidden layers has been kept as 3 while tuning the model.  \n",
    " \n",
    " ![image.png](attachment:image.png)\n",
    " \n",
    "To activate the hidden layers, the most common linearly function, **‘relu’** has been used and since our output target feature is categorical (0 or 1), **sigmoid function** is always used for the output layer. Also to reduce the possibility of over fitting the data, we have added a drop-out layer with a rate of 0.05 after the hidden layer 1.\n",
    "\n",
    "The number of training iterations(epochs) has been kept as **‘500’** to ensure the data is fit accurately. Also, the batch size which determines the size of the data to be fed into the model is kept as **‘300’**. As our target feature is categorical, we have used the **‘binary_crossentropy’** as the loss function which determines the loss between the true and predicted labels. For the optimization purpose, the SGD optimizer has been used with the learning rate as 0.02 and momentum as 0.9. Performance evaluations are measured by the **accuracy and roc_auc_score** metrics.\n",
    "\n",
    "### Model and Plot Set-up\n",
    "A custom function called ‘model_factory’ has been defined to perform the modeling of the data based on the parameters discussed. \n",
    "Another custom function named as ‘plot_history’ has been defined which will plot the performance of both the training data and the testing data of our NN model. \n",
    "\n",
    "### Model Training and Evaluation \n",
    "The model_factory function has been called based on our input parameters, which provides the test model based on the topology and this model is fitted on the training and test set based on the epochs and batch size. Using the plot_history function we visualized the model results. To evaluate the performance of the model, the result of the model prediction is set as a data frame on which the metrics like accuracy and roc_auc_score is calculated. \n",
    "\n",
    "### Parameter tuning\n",
    "As part of parameter tuning, 5 different models have been fitted by changing the parameters related to the activation layer, training parameters and so. We have covered the details of the 5 different model tuning performed in this analysis.\n",
    "\n",
    "##### Model 1: \n",
    "During the first tuning purpose, we reduced the batch size to ‘100’ and, we modified the hidden activation layer function to ‘tanh’.\n",
    "\n",
    "##### Model 2:\n",
    "In this model, we changed the loss function to ‘categorical_crossentropy’ to validate if it performs better than the ‘binary_crossentropy’, however we could observe that the accuracy of the test data and training data has varied a lot. \n",
    "\n",
    "##### Model 3\n",
    "In this model, we used the **'tanh' functions and Adam** optimizer by defining the decay and its rate in the exponential decay function , which then has been passed as the learning rate for the optimizer. We could observe that the accuracy of the model had been reduced to almost 50 % than the other models.\n",
    "\n",
    "##### Model 4 \n",
    "In this model, we changed the optimizer to **'Adadelta'** with the learning rate as 0.01 and **'elu'** activation layer functions. The learning rate in the optimizer is kept as **0.001**. The accuracy trend between the test and train data remained the same across all the iterations.\n",
    "\n",
    "##### Model 5 \n",
    "In this model, we kept the same **'Adadelta'** optimizer, however we tried the **tanh** activation layer and also reduced the **batchsize** to observe the significance of it. As per the accuracy and the roc_auc_score there is no change in the performance of this model. "
   ]
  },
  {
   "cell_type": "markdown",
   "id": "2ef9c9cf",
   "metadata": {},
   "source": [
    "### Model Fitting and Tuning <a id='NN-fitting-tuning'></a>"
   ]
  },
  {
   "cell_type": "code",
   "execution_count": 72,
   "id": "79b9801e",
   "metadata": {},
   "outputs": [],
   "source": [
    "from keras.models import Sequential\n",
    "from keras.layers import Dense, Dropout\n",
    "from sklearn.metrics import accuracy_score, roc_auc_score\n",
    "from tensorflow.keras.optimizers import SGD"
   ]
  },
  {
   "cell_type": "code",
   "execution_count": 73,
   "id": "11947063",
   "metadata": {},
   "outputs": [],
   "source": [
    "target = data_target.copy()\n",
    "target = target.values.reshape(-1, 1)"
   ]
  },
  {
   "cell_type": "code",
   "execution_count": 74,
   "id": "5cc89f30",
   "metadata": {},
   "outputs": [],
   "source": [
    "desc_train, desc_test, tar_train, tar_test, idx_train, idx_test = \\\n",
    "   train_test_split(data_desc, target, for_cols.index, test_size=0.2, random_state=999)"
   ]
  },
  {
   "cell_type": "markdown",
   "id": "5e8759d5",
   "metadata": {},
   "source": [
    "###### Defining a custom function for the model"
   ]
  },
  {
   "cell_type": "code",
   "execution_count": 75,
   "id": "0dc47a66",
   "metadata": {},
   "outputs": [],
   "source": [
    "def model_factory(input_dim, layer1_units, layer2_units):\n",
    "    model = Sequential()\n",
    "    model.add(Dense(layer1_units, input_dim=input_dim, activation=layer1_activation))\n",
    "    model.add(Dropout(layer1_dropout_rate))\n",
    "    model.add(Dense(layer2_units, activation=layer1_activation))\n",
    "    model.add(Dropout(layer2_dropout_rate))\n",
    "    model.add(Dense(1, activation=output_activation))\n",
    "    model.compile(loss=loss, optimizer=optimizer, metrics=metrics)\n",
    "    return model"
   ]
  },
  {
   "cell_type": "markdown",
   "id": "2adb87c6",
   "metadata": {},
   "source": [
    "###### Defining a custom function for the plot"
   ]
  },
  {
   "cell_type": "code",
   "execution_count": 76,
   "id": "ee8999ee",
   "metadata": {},
   "outputs": [],
   "source": [
    "def plot_nn(val): \n",
    "    plt.plot(val.history['accuracy'])\n",
    "    plt.plot(val.history['val_accuracy'])\n",
    "    plt.title('Model Accuracy')\n",
    "    plt.ylabel('Accuracy')\n",
    "    plt.xlabel('Epoch')\n",
    "    plt.legend(['Train', 'Test'], loc='lower right')\n",
    "    plt.show()"
   ]
  },
  {
   "cell_type": "markdown",
   "id": "0227a331",
   "metadata": {},
   "source": [
    "#### Neural Network Model"
   ]
  },
  {
   "cell_type": "markdown",
   "id": "5f8f00fa",
   "metadata": {},
   "source": [
    "Parameters: **hidden layer units is 3, loss='binary_crossentropy', input and output activation layers='relu' and 'sigmoid' respectively, optimizer='SGD'**"
   ]
  },
  {
   "cell_type": "code",
   "execution_count": 77,
   "id": "b6daa939",
   "metadata": {},
   "outputs": [],
   "source": [
    "# size of the network is determined by the number of neural units in each hidden layer\n",
    "layer1_units = 3\n",
    "layer2_units = 3\n",
    "loss = 'binary_crossentropy' \n",
    "# during training, we would like to monitor accuracy\n",
    "metrics = ['accuracy']\n",
    "epochs = 500\n",
    "batch_size = 300\n",
    "layer1_activation = 'relu'\n",
    "layer2_activation = 'relu'\n",
    "output_activation = 'sigmoid'\n",
    "layer1_dropout_rate = 0.05\n",
    "layer2_dropout_rate = 0.00\n",
    "learning_rate=0.001\n",
    "momentum=1.0\n",
    "\n",
    "optimizer = SGD(learning_rate=learning_rate, momentum=momentum)"
   ]
  },
  {
   "cell_type": "code",
   "execution_count": 78,
   "id": "126698c4",
   "metadata": {},
   "outputs": [
    {
     "name": "stdout",
     "output_type": "stream",
     "text": [
      "Model: \"sequential\"\n",
      "_________________________________________________________________\n",
      " Layer (type)                Output Shape              Param #   \n",
      "=================================================================\n",
      " dense (Dense)               (None, 3)                 57        \n",
      "                                                                 \n",
      " dropout (Dropout)           (None, 3)                 0         \n",
      "                                                                 \n",
      " dense_1 (Dense)             (None, 3)                 12        \n",
      "                                                                 \n",
      " dropout_1 (Dropout)         (None, 3)                 0         \n",
      "                                                                 \n",
      " dense_2 (Dense)             (None, 1)                 4         \n",
      "                                                                 \n",
      "=================================================================\n",
      "Total params: 73\n",
      "Trainable params: 73\n",
      "Non-trainable params: 0\n",
      "_________________________________________________________________\n"
     ]
    }
   ],
   "source": [
    "nn_model_test = model_factory(for_cols.shape[1], layer1_units, layer2_units)\n",
    "nn_model_test.summary()"
   ]
  },
  {
   "cell_type": "code",
   "execution_count": 79,
   "id": "e7521c40",
   "metadata": {},
   "outputs": [
    {
     "name": "stdout",
     "output_type": "stream",
     "text": [
      "Wall time: 27.7 s\n"
     ]
    }
   ],
   "source": [
    "%%time\n",
    "nn_test = nn_model_test.fit(desc_train, \n",
    "                              tar_train,\n",
    "                              epochs=epochs,\n",
    "                              batch_size=batch_size,\n",
    "                              verbose=0,\n",
    "                              shuffle=True,\n",
    "                              validation_data=(desc_test, tar_test))"
   ]
  },
  {
   "cell_type": "code",
   "execution_count": 80,
   "id": "a89e8fb7",
   "metadata": {},
   "outputs": [
    {
     "data": {
      "text/plain": [
       "dict_keys(['loss', 'accuracy', 'val_loss', 'val_accuracy'])"
      ]
     },
     "execution_count": 80,
     "metadata": {},
     "output_type": "execute_result"
    }
   ],
   "source": [
    "# Keys in nn1 attribute of the fitted model object\n",
    "nn_test.history.keys()"
   ]
  },
  {
   "cell_type": "code",
   "execution_count": 81,
   "id": "913d52b5",
   "metadata": {},
   "outputs": [
    {
     "data": {
      "image/png": "[encoded data removed]",
      "text/plain": [
       "<Figure size 432x288 with 1 Axes>"
      ]
     },
     "metadata": {
      "image/png": {
       "height": 281,
       "width": 400
      }
     },
     "output_type": "display_data"
    }
   ],
   "source": [
    "plot_nn(nn_test)"
   ]
  },
  {
   "cell_type": "code",
   "execution_count": 82,
   "id": "2852b5cd",
   "metadata": {},
   "outputs": [
    {
     "name": "stdout",
     "output_type": "stream",
     "text": [
      "26/26 [==============================] - 0s 2ms/step\n"
     ]
    },
    {
     "data": {
      "text/html": [
       "<div>\n",
       "<style scoped>\n",
       "    .dataframe tbody tr th:only-of-type {\n",
       "        vertical-align: middle;\n",
       "    }\n",
       "\n",
       "    .dataframe tbody tr th {\n",
       "        vertical-align: top;\n",
       "    }\n",
       "\n",
       "    .dataframe thead th {\n",
       "        text-align: right;\n",
       "    }\n",
       "</style>\n",
       "<table border=\"1\" class=\"dataframe\">\n",
       "  <thead>\n",
       "    <tr style=\"text-align: right;\">\n",
       "      <th></th>\n",
       "      <th>target</th>\n",
       "      <th>fit</th>\n",
       "    </tr>\n",
       "  </thead>\n",
       "  <tbody>\n",
       "    <tr>\n",
       "      <th>0</th>\n",
       "      <td>0</td>\n",
       "      <td>0</td>\n",
       "    </tr>\n",
       "    <tr>\n",
       "      <th>1</th>\n",
       "      <td>1</td>\n",
       "      <td>0</td>\n",
       "    </tr>\n",
       "    <tr>\n",
       "      <th>2</th>\n",
       "      <td>0</td>\n",
       "      <td>0</td>\n",
       "    </tr>\n",
       "    <tr>\n",
       "      <th>3</th>\n",
       "      <td>0</td>\n",
       "      <td>0</td>\n",
       "    </tr>\n",
       "    <tr>\n",
       "      <th>4</th>\n",
       "      <td>1</td>\n",
       "      <td>0</td>\n",
       "    </tr>\n",
       "  </tbody>\n",
       "</table>\n",
       "</div>"
      ],
      "text/plain": [
       "   target  fit\n",
       "0       0    0\n",
       "1       1    0\n",
       "2       0    0\n",
       "3       0    0\n",
       "4       1    0"
      ]
     },
     "execution_count": 82,
     "metadata": {},
     "output_type": "execute_result"
    }
   ],
   "source": [
    "# compute prediction performance on test data\n",
    "nn_model_output = nn_model_test.predict(desc_test).astype(float)\n",
    "\n",
    "# decide classification based on threshold of 0.5\n",
    "t_pred = np.where(nn_model_output < 0.5, 0, 1)\n",
    "\n",
    "# set up the results data frame\n",
    "nn_result_test = pd.DataFrame()\n",
    "nn_result_test['target'] = tar_test.flatten()\n",
    "nn_result_test['fit'] = t_pred\n",
    "nn_result_test.head()"
   ]
  },
  {
   "cell_type": "code",
   "execution_count": 83,
   "id": "021daf83",
   "metadata": {},
   "outputs": [
    {
     "name": "stdout",
     "output_type": "stream",
     "text": [
      "validation data accuracy_score = 0.865\n",
      "validation data roc_auc_score = 0.500\n"
     ]
    }
   ],
   "source": [
    "nn_accuracy = accuracy_score(nn_result_test['target'], nn_result_test['fit'])\n",
    "nn_auc = roc_auc_score(nn_result_test['target'], nn_result_test['fit'])\n",
    "print(f\"validation data accuracy_score = {nn_accuracy:.3f}\")\n",
    "print(f\"validation data roc_auc_score = {nn_auc:.3f}\")"
   ]
  },
  {
   "cell_type": "markdown",
   "id": "632097b0",
   "metadata": {},
   "source": [
    "#### Neural Network - Parameter Tuning Model 1"
   ]
  },
  {
   "cell_type": "markdown",
   "id": "91538a8a",
   "metadata": {},
   "source": [
    "Tuning parameters: **hidden layer units as '3', input activation layer as 'tanh'**"
   ]
  },
  {
   "cell_type": "code",
   "execution_count": 84,
   "id": "56de2104",
   "metadata": {},
   "outputs": [],
   "source": [
    "layer1_units = 3\n",
    "layer2_units = 3\n",
    "loss = 'binary_crossentropy' \n",
    "\n",
    "metrics = ['accuracy'] \n",
    "epochs = 500\n",
    "batch_size = 100\n",
    "layer1_activation = 'tanh'\n",
    "layer2_activation = 'tanh'\n",
    "output_activation = 'sigmoid'\n",
    "layer1_dropout_rate = 0.05\n",
    "layer2_dropout_rate = 0.00\n",
    "learning_rate=0.001\n",
    "momentum=0.9\n",
    "\n",
    "optimizer = SGD(learning_rate=learning_rate, momentum=momentum)"
   ]
  },
  {
   "cell_type": "code",
   "execution_count": 85,
   "id": "be80a86f",
   "metadata": {},
   "outputs": [
    {
     "name": "stdout",
     "output_type": "stream",
     "text": [
      "Model: \"sequential_1\"\n",
      "_________________________________________________________________\n",
      " Layer (type)                Output Shape              Param #   \n",
      "=================================================================\n",
      " dense_3 (Dense)             (None, 3)                 57        \n",
      "                                                                 \n",
      " dropout_2 (Dropout)         (None, 3)                 0         \n",
      "                                                                 \n",
      " dense_4 (Dense)             (None, 3)                 12        \n",
      "                                                                 \n",
      " dropout_3 (Dropout)         (None, 3)                 0         \n",
      "                                                                 \n",
      " dense_5 (Dense)             (None, 1)                 4         \n",
      "                                                                 \n",
      "=================================================================\n",
      "Total params: 73\n",
      "Trainable params: 73\n",
      "Non-trainable params: 0\n",
      "_________________________________________________________________\n"
     ]
    }
   ],
   "source": [
    "nn1_model_test = model_factory(for_cols.shape[1], layer1_units, layer2_units)\n",
    "nn1_model_test.summary()"
   ]
  },
  {
   "cell_type": "code",
   "execution_count": 86,
   "id": "ca3ed7e5",
   "metadata": {},
   "outputs": [
    {
     "name": "stdout",
     "output_type": "stream",
     "text": [
      "Wall time: 45.8 s\n"
     ]
    }
   ],
   "source": [
    "%%time\n",
    "nn1_test = nn1_model_test.fit(desc_train, \n",
    "                              tar_train,\n",
    "                              epochs=epochs,\n",
    "                              batch_size=batch_size,\n",
    "                              verbose=0,\n",
    "                              shuffle=True,\n",
    "                              validation_data=(desc_test, tar_test))"
   ]
  },
  {
   "cell_type": "code",
   "execution_count": 87,
   "id": "b3b7d8e6",
   "metadata": {},
   "outputs": [
    {
     "data": {
      "text/plain": [
       "dict_keys(['loss', 'accuracy', 'val_loss', 'val_accuracy'])"
      ]
     },
     "execution_count": 87,
     "metadata": {},
     "output_type": "execute_result"
    }
   ],
   "source": [
    "# Keys in the nn1_test history attribute of the fitted model object\n",
    "nn1_test.history.keys()"
   ]
  },
  {
   "cell_type": "code",
   "execution_count": 88,
   "id": "06490248",
   "metadata": {},
   "outputs": [
    {
     "data": {
      "image/png": "[encoded data removed]",
      "text/plain": [
       "<Figure size 432x288 with 1 Axes>"
      ]
     },
     "metadata": {
      "image/png": {
       "height": 281,
       "width": 394
      }
     },
     "output_type": "display_data"
    }
   ],
   "source": [
    "plot_nn(nn1_test)"
   ]
  },
  {
   "cell_type": "code",
   "execution_count": 89,
   "id": "e688b85b",
   "metadata": {},
   "outputs": [
    {
     "name": "stdout",
     "output_type": "stream",
     "text": [
      "26/26 [==============================] - 0s 2ms/step\n"
     ]
    },
    {
     "data": {
      "text/html": [
       "<div>\n",
       "<style scoped>\n",
       "    .dataframe tbody tr th:only-of-type {\n",
       "        vertical-align: middle;\n",
       "    }\n",
       "\n",
       "    .dataframe tbody tr th {\n",
       "        vertical-align: top;\n",
       "    }\n",
       "\n",
       "    .dataframe thead th {\n",
       "        text-align: right;\n",
       "    }\n",
       "</style>\n",
       "<table border=\"1\" class=\"dataframe\">\n",
       "  <thead>\n",
       "    <tr style=\"text-align: right;\">\n",
       "      <th></th>\n",
       "      <th>target</th>\n",
       "      <th>fit</th>\n",
       "    </tr>\n",
       "  </thead>\n",
       "  <tbody>\n",
       "    <tr>\n",
       "      <th>0</th>\n",
       "      <td>0</td>\n",
       "      <td>0</td>\n",
       "    </tr>\n",
       "    <tr>\n",
       "      <th>1</th>\n",
       "      <td>1</td>\n",
       "      <td>0</td>\n",
       "    </tr>\n",
       "    <tr>\n",
       "      <th>2</th>\n",
       "      <td>0</td>\n",
       "      <td>0</td>\n",
       "    </tr>\n",
       "    <tr>\n",
       "      <th>3</th>\n",
       "      <td>0</td>\n",
       "      <td>0</td>\n",
       "    </tr>\n",
       "    <tr>\n",
       "      <th>4</th>\n",
       "      <td>1</td>\n",
       "      <td>0</td>\n",
       "    </tr>\n",
       "  </tbody>\n",
       "</table>\n",
       "</div>"
      ],
      "text/plain": [
       "   target  fit\n",
       "0       0    0\n",
       "1       1    0\n",
       "2       0    0\n",
       "3       0    0\n",
       "4       1    0"
      ]
     },
     "execution_count": 89,
     "metadata": {},
     "output_type": "execute_result"
    }
   ],
   "source": [
    "# compute prediction performance on test data\n",
    "nn1_model_output = nn1_model_test.predict(desc_test).astype(float)\n",
    "\n",
    "# decide classification based on threshold of 0.5\n",
    "t_pred = np.where(nn1_model_output < 0.5, 0, 1)\n",
    "\n",
    "# set up the results data frame\n",
    "nn1_result_test = pd.DataFrame()\n",
    "nn1_result_test['target'] = tar_test.flatten()\n",
    "nn1_result_test['fit'] = t_pred\n",
    "nn1_result_test.head()"
   ]
  },
  {
   "cell_type": "code",
   "execution_count": 90,
   "id": "60c3eeb2",
   "metadata": {},
   "outputs": [
    {
     "name": "stdout",
     "output_type": "stream",
     "text": [
      "validation data accuracy_score = 0.865\n",
      "validation data roc_auc_score = 0.500\n"
     ]
    }
   ],
   "source": [
    "nn1_accuracy = accuracy_score(nn1_result_test['target'], nn1_result_test['fit'])\n",
    "nn1_auc = roc_auc_score(nn1_result_test['target'], nn1_result_test['fit'])\n",
    "print(f\"validation data accuracy_score = {nn1_accuracy:.3f}\")\n",
    "print(f\"validation data roc_auc_score = {nn1_auc:.3f}\")"
   ]
  },
  {
   "cell_type": "markdown",
   "id": "1e4b703c",
   "metadata": {},
   "source": [
    "#### Neural Network - Parameter tuning Model 2"
   ]
  },
  {
   "cell_type": "markdown",
   "id": "7f273506",
   "metadata": {},
   "source": [
    "Tuning parameters: **loss='categorical_crossentropy', input activation layer as 'relu'**"
   ]
  },
  {
   "cell_type": "code",
   "execution_count": 91,
   "id": "13e08a18",
   "metadata": {},
   "outputs": [],
   "source": [
    "layer1_units = 3\n",
    "layer2_units = 3\n",
    "loss = 'categorical_crossentropy' \n",
    "\n",
    "metrics = ['accuracy'] \n",
    "epochs = 700\n",
    "batch_size = 100\n",
    "layer1_activation = 'relu'\n",
    "layer2_activation = 'relu'\n",
    "output_activation = 'sigmoid'\n",
    "layer1_dropout_rate = 0.05\n",
    "layer2_dropout_rate = 0.00\n",
    "learning_rate=0.003\n",
    "momentum=0.9\n",
    "\n",
    "optimizer = SGD(learning_rate=learning_rate, momentum=momentum)"
   ]
  },
  {
   "cell_type": "code",
   "execution_count": 92,
   "id": "1150457b",
   "metadata": {},
   "outputs": [
    {
     "name": "stdout",
     "output_type": "stream",
     "text": [
      "Model: \"sequential_2\"\n",
      "_________________________________________________________________\n",
      " Layer (type)                Output Shape              Param #   \n",
      "=================================================================\n",
      " dense_6 (Dense)             (None, 3)                 57        \n",
      "                                                                 \n",
      " dropout_4 (Dropout)         (None, 3)                 0         \n",
      "                                                                 \n",
      " dense_7 (Dense)             (None, 3)                 12        \n",
      "                                                                 \n",
      " dropout_5 (Dropout)         (None, 3)                 0         \n",
      "                                                                 \n",
      " dense_8 (Dense)             (None, 1)                 4         \n",
      "                                                                 \n",
      "=================================================================\n",
      "Total params: 73\n",
      "Trainable params: 73\n",
      "Non-trainable params: 0\n",
      "_________________________________________________________________\n"
     ]
    }
   ],
   "source": [
    "nn2_model_test = model_factory(for_cols.shape[1], layer1_units, layer2_units)\n",
    "nn2_model_test.summary()"
   ]
  },
  {
   "cell_type": "code",
   "execution_count": 93,
   "id": "bf5e3ff3",
   "metadata": {},
   "outputs": [
    {
     "name": "stdout",
     "output_type": "stream",
     "text": [
      "Wall time: 1min\n"
     ]
    }
   ],
   "source": [
    "%%time\n",
    "nn2_test = nn2_model_test.fit(desc_train, \n",
    "                              tar_train,\n",
    "                              epochs=epochs,\n",
    "                              batch_size=batch_size,\n",
    "                              verbose=0,\n",
    "                              shuffle=True,\n",
    "                              validation_data=(desc_test, tar_test))"
   ]
  },
  {
   "cell_type": "code",
   "execution_count": 94,
   "id": "4119ddc1",
   "metadata": {},
   "outputs": [
    {
     "data": {
      "text/plain": [
       "dict_keys(['loss', 'accuracy', 'val_loss', 'val_accuracy'])"
      ]
     },
     "execution_count": 94,
     "metadata": {},
     "output_type": "execute_result"
    }
   ],
   "source": [
    "# Keys in the nn2_test attribute of the fitted model object\n",
    "nn2_test.history.keys()"
   ]
  },
  {
   "cell_type": "code",
   "execution_count": 95,
   "id": "025dfa19",
   "metadata": {},
   "outputs": [
    {
     "data": {
      "image/png": "[encoded data removed]",
      "text/plain": [
       "<Figure size 432x288 with 1 Axes>"
      ]
     },
     "metadata": {
      "image/png": {
       "height": 281,
       "width": 407
      }
     },
     "output_type": "display_data"
    }
   ],
   "source": [
    "plot_nn(nn2_test)"
   ]
  },
  {
   "cell_type": "code",
   "execution_count": 96,
   "id": "9f5e962d",
   "metadata": {},
   "outputs": [
    {
     "name": "stdout",
     "output_type": "stream",
     "text": [
      "26/26 [==============================] - 0s 2ms/step\n"
     ]
    },
    {
     "data": {
      "text/html": [
       "<div>\n",
       "<style scoped>\n",
       "    .dataframe tbody tr th:only-of-type {\n",
       "        vertical-align: middle;\n",
       "    }\n",
       "\n",
       "    .dataframe tbody tr th {\n",
       "        vertical-align: top;\n",
       "    }\n",
       "\n",
       "    .dataframe thead th {\n",
       "        text-align: right;\n",
       "    }\n",
       "</style>\n",
       "<table border=\"1\" class=\"dataframe\">\n",
       "  <thead>\n",
       "    <tr style=\"text-align: right;\">\n",
       "      <th></th>\n",
       "      <th>target</th>\n",
       "      <th>fit</th>\n",
       "    </tr>\n",
       "  </thead>\n",
       "  <tbody>\n",
       "    <tr>\n",
       "      <th>0</th>\n",
       "      <td>0</td>\n",
       "      <td>1</td>\n",
       "    </tr>\n",
       "    <tr>\n",
       "      <th>1</th>\n",
       "      <td>1</td>\n",
       "      <td>1</td>\n",
       "    </tr>\n",
       "    <tr>\n",
       "      <th>2</th>\n",
       "      <td>0</td>\n",
       "      <td>1</td>\n",
       "    </tr>\n",
       "    <tr>\n",
       "      <th>3</th>\n",
       "      <td>0</td>\n",
       "      <td>1</td>\n",
       "    </tr>\n",
       "    <tr>\n",
       "      <th>4</th>\n",
       "      <td>1</td>\n",
       "      <td>1</td>\n",
       "    </tr>\n",
       "  </tbody>\n",
       "</table>\n",
       "</div>"
      ],
      "text/plain": [
       "   target  fit\n",
       "0       0    1\n",
       "1       1    1\n",
       "2       0    1\n",
       "3       0    1\n",
       "4       1    1"
      ]
     },
     "execution_count": 96,
     "metadata": {},
     "output_type": "execute_result"
    }
   ],
   "source": [
    "# compute prediction performance on test data\n",
    "nn2_model_output = nn2_model_test.predict(desc_test).astype(float)\n",
    "\n",
    "# decide classification based on threshold of 0.5\n",
    "t_pred = np.where(nn2_model_output < 0.5, 0, 1)\n",
    "\n",
    "# set up the results data frame\n",
    "nn2_result_test = pd.DataFrame()\n",
    "nn2_result_test['target'] = tar_test.flatten()\n",
    "nn2_result_test['fit'] = t_pred\n",
    "nn2_result_test.head()"
   ]
  },
  {
   "cell_type": "code",
   "execution_count": 97,
   "id": "905e183f",
   "metadata": {},
   "outputs": [
    {
     "name": "stdout",
     "output_type": "stream",
     "text": [
      "validation data accuracy_score = 0.135\n",
      "validation data roc_auc_score = 0.500\n"
     ]
    }
   ],
   "source": [
    "nn2_accuracy = accuracy_score(nn2_result_test['target'], nn2_result_test['fit'])\n",
    "nn2_auc = roc_auc_score(nn2_result_test['target'], nn2_result_test['fit'])\n",
    "print(f\"validation data accuracy_score = {nn2_accuracy:.3f}\")\n",
    "print(f\"validation data roc_auc_score = {nn2_auc:.3f}\")"
   ]
  },
  {
   "cell_type": "markdown",
   "id": "7de9c4b4",
   "metadata": {},
   "source": [
    "#### Neural Network - Parameter Tuning Model 3"
   ]
  },
  {
   "cell_type": "markdown",
   "id": "ac336276",
   "metadata": {},
   "source": [
    "Tuning parameters: **optimizer as 'Adam', input activation layers as 'tanh', momentum as '0.7', learning_rate as '0.001'**"
   ]
  },
  {
   "cell_type": "code",
   "execution_count": 98,
   "id": "565df912",
   "metadata": {},
   "outputs": [],
   "source": [
    "from tensorflow.keras.optimizers import Adam\n",
    "\n",
    "layer1_units = 3\n",
    "layer2_units = 3\n",
    "loss = 'binary_crossentropy'\n",
    "metrics = ['accuracy']\n",
    "epochs = 500\n",
    "batch_size = 100\n",
    "layer1_activation = 'tanh'\n",
    "layer2_activation = 'tanh'\n",
    "output_activation = 'sigmoid'\n",
    "layer1_dropout_rate = 0.05\n",
    "layer2_dropout_rate = 0.00\n",
    "learning_rate=0.001\n",
    "decay=0.01\n",
    "momentum=0.7\n",
    "\n",
    "lr_schedule = tf.keras.optimizers.schedules.ExponentialDecay(\n",
    "    initial_learning_rate=learning_rate,\n",
    "    decay_steps=decay,\n",
    "    decay_rate=momentum)\n",
    "optimizer = tf.keras.optimizers.Adam(learning_rate=lr_schedule)"
   ]
  },
  {
   "cell_type": "code",
   "execution_count": 99,
   "id": "e4274912",
   "metadata": {},
   "outputs": [
    {
     "name": "stdout",
     "output_type": "stream",
     "text": [
      "Model: \"sequential_3\"\n",
      "_________________________________________________________________\n",
      " Layer (type)                Output Shape              Param #   \n",
      "=================================================================\n",
      " dense_9 (Dense)             (None, 3)                 57        \n",
      "                                                                 \n",
      " dropout_6 (Dropout)         (None, 3)                 0         \n",
      "                                                                 \n",
      " dense_10 (Dense)            (None, 3)                 12        \n",
      "                                                                 \n",
      " dropout_7 (Dropout)         (None, 3)                 0         \n",
      "                                                                 \n",
      " dense_11 (Dense)            (None, 1)                 4         \n",
      "                                                                 \n",
      "=================================================================\n",
      "Total params: 73\n",
      "Trainable params: 73\n",
      "Non-trainable params: 0\n",
      "_________________________________________________________________\n"
     ]
    }
   ],
   "source": [
    "nn3_model_test = model_factory(for_cols.shape[1], layer1_units, layer2_units)\n",
    "nn3_model_test.summary()"
   ]
  },
  {
   "cell_type": "code",
   "execution_count": 100,
   "id": "8f777fd1",
   "metadata": {},
   "outputs": [
    {
     "name": "stdout",
     "output_type": "stream",
     "text": [
      "Wall time: 45.6 s\n"
     ]
    }
   ],
   "source": [
    "%%time\n",
    "nn3_test = nn3_model_test.fit(desc_train, \n",
    "                              tar_train,\n",
    "                              epochs=epochs,\n",
    "                              batch_size=batch_size,\n",
    "                              verbose=0,\n",
    "                              shuffle=True,\n",
    "                              validation_data=(desc_test, tar_test))"
   ]
  },
  {
   "cell_type": "code",
   "execution_count": 101,
   "id": "adf9ecdb",
   "metadata": {},
   "outputs": [
    {
     "data": {
      "text/plain": [
       "dict_keys(['loss', 'accuracy', 'val_loss', 'val_accuracy'])"
      ]
     },
     "execution_count": 101,
     "metadata": {},
     "output_type": "execute_result"
    }
   ],
   "source": [
    "# Keys in the nn3_test attribute of the fitted model object\n",
    "nn3_test.history.keys()"
   ]
  },
  {
   "cell_type": "code",
   "execution_count": 102,
   "id": "2f890450",
   "metadata": {},
   "outputs": [
    {
     "data": {
      "image/png": "[encoded data removed]",
      "text/plain": [
       "<Figure size 432x288 with 1 Axes>"
      ]
     },
     "metadata": {
      "image/png": {
       "height": 281,
       "width": 400
      }
     },
     "output_type": "display_data"
    }
   ],
   "source": [
    "plot_nn(nn3_test)"
   ]
  },
  {
   "cell_type": "code",
   "execution_count": 103,
   "id": "51652acb",
   "metadata": {},
   "outputs": [
    {
     "name": "stdout",
     "output_type": "stream",
     "text": [
      "26/26 [==============================] - 0s 890us/step\n"
     ]
    },
    {
     "data": {
      "text/html": [
       "<div>\n",
       "<style scoped>\n",
       "    .dataframe tbody tr th:only-of-type {\n",
       "        vertical-align: middle;\n",
       "    }\n",
       "\n",
       "    .dataframe tbody tr th {\n",
       "        vertical-align: top;\n",
       "    }\n",
       "\n",
       "    .dataframe thead th {\n",
       "        text-align: right;\n",
       "    }\n",
       "</style>\n",
       "<table border=\"1\" class=\"dataframe\">\n",
       "  <thead>\n",
       "    <tr style=\"text-align: right;\">\n",
       "      <th></th>\n",
       "      <th>target</th>\n",
       "      <th>fit</th>\n",
       "    </tr>\n",
       "  </thead>\n",
       "  <tbody>\n",
       "    <tr>\n",
       "      <th>0</th>\n",
       "      <td>0</td>\n",
       "      <td>0</td>\n",
       "    </tr>\n",
       "    <tr>\n",
       "      <th>1</th>\n",
       "      <td>1</td>\n",
       "      <td>0</td>\n",
       "    </tr>\n",
       "    <tr>\n",
       "      <th>2</th>\n",
       "      <td>0</td>\n",
       "      <td>0</td>\n",
       "    </tr>\n",
       "    <tr>\n",
       "      <th>3</th>\n",
       "      <td>0</td>\n",
       "      <td>0</td>\n",
       "    </tr>\n",
       "    <tr>\n",
       "      <th>4</th>\n",
       "      <td>1</td>\n",
       "      <td>0</td>\n",
       "    </tr>\n",
       "  </tbody>\n",
       "</table>\n",
       "</div>"
      ],
      "text/plain": [
       "   target  fit\n",
       "0       0    0\n",
       "1       1    0\n",
       "2       0    0\n",
       "3       0    0\n",
       "4       1    0"
      ]
     },
     "execution_count": 103,
     "metadata": {},
     "output_type": "execute_result"
    }
   ],
   "source": [
    "# compute prediction performance on test data\n",
    "nn3_model_output = nn3_model_test.predict(desc_test).astype(float)\n",
    "\n",
    "# decide classification based on threshold of 0.5\n",
    "t_pred = np.where(nn3_model_output < 0.5, 0, 1)\n",
    "\n",
    "# set up the results data frame\n",
    "nn3_result_test = pd.DataFrame()\n",
    "nn3_result_test['target'] = tar_test.flatten()\n",
    "nn3_result_test['fit'] = t_pred\n",
    "nn3_result_test.head()"
   ]
  },
  {
   "cell_type": "code",
   "execution_count": 104,
   "id": "77efbb24",
   "metadata": {},
   "outputs": [
    {
     "name": "stdout",
     "output_type": "stream",
     "text": [
      "validation data accuracy_score = 0.733\n",
      "validation data roc_auc_score = 0.454\n"
     ]
    }
   ],
   "source": [
    "nn3_accuracy = accuracy_score(nn3_result_test['target'], nn3_result_test['fit'])\n",
    "nn3_auc = roc_auc_score(nn3_result_test['target'], nn3_result_test['fit'])\n",
    "print(f\"validation data accuracy_score = {nn3_accuracy:.3f}\")\n",
    "print(f\"validation data roc_auc_score = {nn3_auc:.3f}\")"
   ]
  },
  {
   "cell_type": "markdown",
   "id": "01d1d5fb",
   "metadata": {},
   "source": [
    "#### Neural Network - Parameter Tuning Model 4"
   ]
  },
  {
   "cell_type": "markdown",
   "id": "7de2d876",
   "metadata": {},
   "source": [
    "Tuning parameters: **optimizer as 'Adadelta', loss as 'binary_crossentropy', input activation layers as 'elu'**"
   ]
  },
  {
   "cell_type": "code",
   "execution_count": 105,
   "id": "c591b184",
   "metadata": {},
   "outputs": [],
   "source": [
    "from tensorflow.keras.optimizers import Adadelta\n",
    "\n",
    "layer1_units = 3\n",
    "layer2_units = 3\n",
    "loss = 'binary_crossentropy'\n",
    "metrics = ['accuracy']\n",
    "epochs = 500\n",
    "batch_size = 100\n",
    "layer1_activation = 'elu'\n",
    "layer2_activation = 'elu'\n",
    "output_activation = 'sigmoid'\n",
    "layer1_dropout_rate = 0.05\n",
    "layer2_dropout_rate = 0.00\n",
    "optimizer = Adadelta(learning_rate=0.001, rho = 1.0)"
   ]
  },
  {
   "cell_type": "code",
   "execution_count": 106,
   "id": "e98d3b0d",
   "metadata": {},
   "outputs": [
    {
     "name": "stdout",
     "output_type": "stream",
     "text": [
      "Model: \"sequential_4\"\n",
      "_________________________________________________________________\n",
      " Layer (type)                Output Shape              Param #   \n",
      "=================================================================\n",
      " dense_12 (Dense)            (None, 3)                 57        \n",
      "                                                                 \n",
      " dropout_8 (Dropout)         (None, 3)                 0         \n",
      "                                                                 \n",
      " dense_13 (Dense)            (None, 3)                 12        \n",
      "                                                                 \n",
      " dropout_9 (Dropout)         (None, 3)                 0         \n",
      "                                                                 \n",
      " dense_14 (Dense)            (None, 1)                 4         \n",
      "                                                                 \n",
      "=================================================================\n",
      "Total params: 73\n",
      "Trainable params: 73\n",
      "Non-trainable params: 0\n",
      "_________________________________________________________________\n"
     ]
    }
   ],
   "source": [
    "nn4_model_test = model_factory(for_cols.shape[1], layer1_units, layer2_units)\n",
    "nn4_model_test.summary()"
   ]
  },
  {
   "cell_type": "code",
   "execution_count": 107,
   "id": "6483957e",
   "metadata": {},
   "outputs": [
    {
     "name": "stdout",
     "output_type": "stream",
     "text": [
      "Wall time: 44.6 s\n"
     ]
    }
   ],
   "source": [
    "%%time\n",
    "nn4_test = nn4_model_test.fit(desc_train, \n",
    "                              tar_train,\n",
    "                              epochs=epochs,\n",
    "                              batch_size=batch_size,\n",
    "                              verbose=0,\n",
    "                              shuffle=True,\n",
    "                              validation_data=(desc_test, tar_test))"
   ]
  },
  {
   "cell_type": "code",
   "execution_count": 108,
   "id": "6bcb4f22",
   "metadata": {},
   "outputs": [
    {
     "data": {
      "text/plain": [
       "dict_keys(['loss', 'accuracy', 'val_loss', 'val_accuracy'])"
      ]
     },
     "execution_count": 108,
     "metadata": {},
     "output_type": "execute_result"
    }
   ],
   "source": [
    "# Keys in the nn4_test attribute of the fitted model object\n",
    "nn4_test.history.keys()"
   ]
  },
  {
   "cell_type": "code",
   "execution_count": 109,
   "id": "0baa893b",
   "metadata": {},
   "outputs": [
    {
     "data": {
      "image/png": "[encoded data removed]",
      "text/plain": [
       "<Figure size 432x288 with 1 Axes>"
      ]
     },
     "metadata": {
      "image/png": {
       "height": 281,
       "width": 394
      }
     },
     "output_type": "display_data"
    }
   ],
   "source": [
    "plot_nn(nn4_test)"
   ]
  },
  {
   "cell_type": "code",
   "execution_count": 110,
   "id": "4e2b5c64",
   "metadata": {},
   "outputs": [
    {
     "name": "stdout",
     "output_type": "stream",
     "text": [
      "26/26 [==============================] - 0s 2ms/step\n"
     ]
    },
    {
     "data": {
      "text/html": [
       "<div>\n",
       "<style scoped>\n",
       "    .dataframe tbody tr th:only-of-type {\n",
       "        vertical-align: middle;\n",
       "    }\n",
       "\n",
       "    .dataframe tbody tr th {\n",
       "        vertical-align: top;\n",
       "    }\n",
       "\n",
       "    .dataframe thead th {\n",
       "        text-align: right;\n",
       "    }\n",
       "</style>\n",
       "<table border=\"1\" class=\"dataframe\">\n",
       "  <thead>\n",
       "    <tr style=\"text-align: right;\">\n",
       "      <th></th>\n",
       "      <th>target</th>\n",
       "      <th>fit</th>\n",
       "    </tr>\n",
       "  </thead>\n",
       "  <tbody>\n",
       "    <tr>\n",
       "      <th>0</th>\n",
       "      <td>0</td>\n",
       "      <td>0</td>\n",
       "    </tr>\n",
       "    <tr>\n",
       "      <th>1</th>\n",
       "      <td>1</td>\n",
       "      <td>0</td>\n",
       "    </tr>\n",
       "    <tr>\n",
       "      <th>2</th>\n",
       "      <td>0</td>\n",
       "      <td>0</td>\n",
       "    </tr>\n",
       "    <tr>\n",
       "      <th>3</th>\n",
       "      <td>0</td>\n",
       "      <td>0</td>\n",
       "    </tr>\n",
       "    <tr>\n",
       "      <th>4</th>\n",
       "      <td>1</td>\n",
       "      <td>0</td>\n",
       "    </tr>\n",
       "  </tbody>\n",
       "</table>\n",
       "</div>"
      ],
      "text/plain": [
       "   target  fit\n",
       "0       0    0\n",
       "1       1    0\n",
       "2       0    0\n",
       "3       0    0\n",
       "4       1    0"
      ]
     },
     "execution_count": 110,
     "metadata": {},
     "output_type": "execute_result"
    }
   ],
   "source": [
    "# compute prediction performance on test data\n",
    "nn4_model_output = nn4_model_test.predict(desc_test).astype(float)\n",
    "\n",
    "# decide classification based on threshold of 0.5\n",
    "t_pred = np.where(nn4_model_output < 0.5, 0, 1)\n",
    "\n",
    "# set up the results data frame\n",
    "nn4_result_test = pd.DataFrame()\n",
    "nn4_result_test['target'] = tar_test.flatten()\n",
    "nn4_result_test['fit'] = t_pred\n",
    "nn4_result_test.head()"
   ]
  },
  {
   "cell_type": "code",
   "execution_count": 111,
   "id": "9a423bb7",
   "metadata": {},
   "outputs": [
    {
     "name": "stdout",
     "output_type": "stream",
     "text": [
      "validation data accuracy_score = 0.865\n",
      "validation data roc_auc_score = 0.500\n"
     ]
    }
   ],
   "source": [
    "nn4_accuracy = accuracy_score(nn4_result_test['target'], nn4_result_test['fit'])\n",
    "nn4_auc = roc_auc_score(nn4_result_test['target'], nn4_result_test['fit'])\n",
    "print(f\"validation data accuracy_score = {nn4_accuracy:.3f}\")\n",
    "print(f\"validation data roc_auc_score = {nn4_auc:.3f}\")"
   ]
  },
  {
   "cell_type": "markdown",
   "id": "95aee0f2",
   "metadata": {},
   "source": [
    "#### Neural Network - Parameter Tuning Model 5"
   ]
  },
  {
   "cell_type": "markdown",
   "id": "2417a216",
   "metadata": {},
   "source": [
    "Tuning parameters: **optimizer as 'Adadelta', input activation layers as 'tanh', batch_size as '50'**"
   ]
  },
  {
   "cell_type": "code",
   "execution_count": 112,
   "id": "4da2a00d",
   "metadata": {},
   "outputs": [],
   "source": [
    "from tensorflow.keras.optimizers import Adadelta\n",
    "\n",
    "layer1_units = 3\n",
    "layer2_units = 3\n",
    "loss = 'binary_crossentropy'\n",
    "metrics = ['accuracy']\n",
    "epochs = 500\n",
    "batch_size = 50\n",
    "layer1_activation = 'tanh'\n",
    "layer2_activation = 'tanh'\n",
    "output_activation = 'sigmoid'\n",
    "layer1_dropout_rate = 0.05\n",
    "layer2_dropout_rate = 0.00\n",
    "\n",
    "optimizer = Adadelta(learning_rate=0.001, rho = 1.0)"
   ]
  },
  {
   "cell_type": "code",
   "execution_count": 113,
   "id": "9386af9e",
   "metadata": {},
   "outputs": [
    {
     "name": "stdout",
     "output_type": "stream",
     "text": [
      "Model: \"sequential_5\"\n",
      "_________________________________________________________________\n",
      " Layer (type)                Output Shape              Param #   \n",
      "=================================================================\n",
      " dense_15 (Dense)            (None, 3)                 57        \n",
      "                                                                 \n",
      " dropout_10 (Dropout)        (None, 3)                 0         \n",
      "                                                                 \n",
      " dense_16 (Dense)            (None, 3)                 12        \n",
      "                                                                 \n",
      " dropout_11 (Dropout)        (None, 3)                 0         \n",
      "                                                                 \n",
      " dense_17 (Dense)            (None, 1)                 4         \n",
      "                                                                 \n",
      "=================================================================\n",
      "Total params: 73\n",
      "Trainable params: 73\n",
      "Non-trainable params: 0\n",
      "_________________________________________________________________\n"
     ]
    }
   ],
   "source": [
    "nn5_model_test = model_factory(for_cols.shape[1], layer1_units, layer2_units)\n",
    "nn5_model_test.summary()"
   ]
  },
  {
   "cell_type": "code",
   "execution_count": 114,
   "id": "bc2260c8",
   "metadata": {},
   "outputs": [
    {
     "name": "stdout",
     "output_type": "stream",
     "text": [
      "Wall time: 1min 9s\n"
     ]
    }
   ],
   "source": [
    "%%time\n",
    "nn5_test = nn5_model_test.fit(desc_train, \n",
    "                              tar_train,\n",
    "                              epochs=epochs,\n",
    "                              batch_size=batch_size,\n",
    "                              verbose=0,\n",
    "                              shuffle=True,\n",
    "                              validation_data=(desc_test, tar_test))"
   ]
  },
  {
   "cell_type": "code",
   "execution_count": 115,
   "id": "2daad9f1",
   "metadata": {},
   "outputs": [
    {
     "data": {
      "text/plain": [
       "dict_keys(['loss', 'accuracy', 'val_loss', 'val_accuracy'])"
      ]
     },
     "execution_count": 115,
     "metadata": {},
     "output_type": "execute_result"
    }
   ],
   "source": [
    "# Keys in the nn5_test attribute of the fitted model object\n",
    "nn5_test.history.keys()"
   ]
  },
  {
   "cell_type": "code",
   "execution_count": 116,
   "id": "6b699f1c",
   "metadata": {},
   "outputs": [
    {
     "data": {
      "image/png": "[encoded data removed]",
      "text/plain": [
       "<Figure size 432x288 with 1 Axes>"
      ]
     },
     "metadata": {
      "image/png": {
       "height": 281,
       "width": 388
      }
     },
     "output_type": "display_data"
    }
   ],
   "source": [
    "plot_nn(nn5_test)"
   ]
  },
  {
   "cell_type": "code",
   "execution_count": 117,
   "id": "4fe6806e",
   "metadata": {},
   "outputs": [
    {
     "name": "stdout",
     "output_type": "stream",
     "text": [
      "26/26 [==============================] - 0s 2ms/step\n"
     ]
    },
    {
     "data": {
      "text/html": [
       "<div>\n",
       "<style scoped>\n",
       "    .dataframe tbody tr th:only-of-type {\n",
       "        vertical-align: middle;\n",
       "    }\n",
       "\n",
       "    .dataframe tbody tr th {\n",
       "        vertical-align: top;\n",
       "    }\n",
       "\n",
       "    .dataframe thead th {\n",
       "        text-align: right;\n",
       "    }\n",
       "</style>\n",
       "<table border=\"1\" class=\"dataframe\">\n",
       "  <thead>\n",
       "    <tr style=\"text-align: right;\">\n",
       "      <th></th>\n",
       "      <th>target</th>\n",
       "      <th>fit</th>\n",
       "    </tr>\n",
       "  </thead>\n",
       "  <tbody>\n",
       "    <tr>\n",
       "      <th>0</th>\n",
       "      <td>0</td>\n",
       "      <td>0</td>\n",
       "    </tr>\n",
       "    <tr>\n",
       "      <th>1</th>\n",
       "      <td>1</td>\n",
       "      <td>0</td>\n",
       "    </tr>\n",
       "    <tr>\n",
       "      <th>2</th>\n",
       "      <td>0</td>\n",
       "      <td>0</td>\n",
       "    </tr>\n",
       "    <tr>\n",
       "      <th>3</th>\n",
       "      <td>0</td>\n",
       "      <td>0</td>\n",
       "    </tr>\n",
       "    <tr>\n",
       "      <th>4</th>\n",
       "      <td>1</td>\n",
       "      <td>0</td>\n",
       "    </tr>\n",
       "  </tbody>\n",
       "</table>\n",
       "</div>"
      ],
      "text/plain": [
       "   target  fit\n",
       "0       0    0\n",
       "1       1    0\n",
       "2       0    0\n",
       "3       0    0\n",
       "4       1    0"
      ]
     },
     "execution_count": 117,
     "metadata": {},
     "output_type": "execute_result"
    }
   ],
   "source": [
    "# compute prediction performance on test data\n",
    "nn5_model_output = nn5_model_test.predict(desc_test).astype(float)\n",
    "\n",
    "# decide classification based on threshold of 0.5\n",
    "t_pred = np.where(nn5_model_output < 0.5, 0, 1)\n",
    "\n",
    "# set up the results data frame\n",
    "nn5_result_test = pd.DataFrame()\n",
    "nn5_result_test['target'] = tar_test.flatten()\n",
    "nn5_result_test['fit'] = t_pred\n",
    "nn5_result_test.head()"
   ]
  },
  {
   "cell_type": "code",
   "execution_count": 118,
   "id": "54841c0d",
   "metadata": {},
   "outputs": [
    {
     "name": "stdout",
     "output_type": "stream",
     "text": [
      "validation data accuracy_score = 0.865\n",
      "validation data roc_auc_score = 0.500\n"
     ]
    }
   ],
   "source": [
    "nn5_accuracy = accuracy_score(nn5_result_test['target'], nn5_result_test['fit'])\n",
    "nn5_auc = roc_auc_score(nn5_result_test['target'], nn5_result_test['fit'])\n",
    "print(f\"validation data accuracy_score = {nn5_accuracy:.3f}\")\n",
    "print(f\"validation data roc_auc_score = {nn5_auc:.3f}\")"
   ]
  },
  {
   "cell_type": "markdown",
   "id": "e4b64678",
   "metadata": {},
   "source": [
    "## Model Comparison <a id='model-comparison'></a>"
   ]
  },
  {
   "cell_type": "markdown",
   "id": "cc5b4303",
   "metadata": {},
   "source": [
    "We used the 3308 rows of our training data within a cross-validation framework during the hyper-parameter tuning phase and found the best hyper-parameter values for each of the classifiers which are listed below.\n",
    "- Random Forest selected 10 features with min_samples_split as 20 and max_depth as 10.0.\n",
    "- Naive Bayes selected 10 features with var smoothing value 0.9.\n",
    "- SVM selected 10 features with 1.0 as C value and kernel as linear.\n",
    "- KNN selected 10 features with 2 as p value and 10 as neighbors.\n",
    "- Decision Tree selected 10 features with 3.0 as max_depth value and min_samples_split as 4.\n",
    "\n",
    "We now fit each tuned classifier with the best set of hyper-parameter values on the 828 rows of the test data in a cross-validated fashion and suggest which classifier performs the best for our problem.\n",
    "\n",
    "we first perform **StratifiedKFold with 10 splits** without any repetitions on each classifiers and use the same seed in all the cross-validation runs and also perform **Paired t-test** in terms of **AUC (Area Under Curve)** to determine if any difference between the performance of any two classifiers is statistically significant. We would perform t-tests for the below pairs.\n",
    "- Random Forest vs Naive Bayes\n",
    "- Random Forest vs SVM\n",
    "- Random Forest vs KNN\n",
    "- Random Forest vs Decision Tree\n",
    "- Naive Bayes vs SVM\n",
    "- Naive Bayes vs KNN\n",
    "- Naive Bayes vs Decision Tree\n",
    "- SVM vs KNN\n",
    "- SVM vs Decision Tree\n",
    "- KNN vs Decision Tree"
   ]
  },
  {
   "cell_type": "markdown",
   "id": "b5299b1d",
   "metadata": {},
   "source": [
    "###### Cross Validation Score"
   ]
  },
  {
   "cell_type": "code",
   "execution_count": 119,
   "id": "2c4059cd",
   "metadata": {},
   "outputs": [],
   "source": [
    "from sklearn.model_selection import cross_val_score\n",
    "cv_method_ttest = StratifiedKFold(n_splits=10, shuffle=True, random_state=111)"
   ]
  },
  {
   "cell_type": "code",
   "execution_count": 120,
   "id": "9ff23a76",
   "metadata": {},
   "outputs": [
    {
     "data": {
      "text/plain": [
       "0.6827779497497808"
      ]
     },
     "execution_count": 120,
     "metadata": {},
     "output_type": "execute_result"
    }
   ],
   "source": [
    "cv_results_rfc = cross_val_score(estimator=gs_pipe_rfc.best_estimator_,\n",
    "                                X=data_desc_test,\n",
    "                                y=data_target_test, \n",
    "                                cv=cv_method_ttest, \n",
    "                                n_jobs=-2,\n",
    "                                scoring='roc_auc')\n",
    "cv_results_rfc.mean()"
   ]
  },
  {
   "cell_type": "code",
   "execution_count": 121,
   "id": "de47fb41",
   "metadata": {},
   "outputs": [
    {
     "data": {
      "text/plain": [
       "0.6832337615436207"
      ]
     },
     "execution_count": 121,
     "metadata": {},
     "output_type": "execute_result"
    }
   ],
   "source": [
    "data_desc_test_transformed = PowerTransformer().fit_transform(data_desc_test)\n",
    "\n",
    "cv_results_NB = cross_val_score(estimator=gs_pipe_NB.best_estimator_,\n",
    "                                X=data_desc_test_transformed,\n",
    "                                y=data_target_test, \n",
    "                                cv=cv_method_ttest, \n",
    "                                n_jobs=-2,\n",
    "                                scoring='roc_auc')\n",
    "cv_results_NB.mean()"
   ]
  },
  {
   "cell_type": "code",
   "execution_count": 122,
   "id": "3c244550",
   "metadata": {},
   "outputs": [
    {
     "data": {
      "text/plain": [
       "0.5529359490274984"
      ]
     },
     "execution_count": 122,
     "metadata": {},
     "output_type": "execute_result"
    }
   ],
   "source": [
    "cv_results_svm = cross_val_score(estimator=gs_pipe_svm.best_estimator_,\n",
    "                                 X=data_desc_test,\n",
    "                                 y=data_target_test, \n",
    "                                 cv=cv_method_ttest, \n",
    "                                 n_jobs=-2,\n",
    "                                 scoring='roc_auc')\n",
    "cv_results_svm.mean()"
   ]
  },
  {
   "cell_type": "code",
   "execution_count": 123,
   "id": "4ff1d7cc",
   "metadata": {},
   "outputs": [
    {
     "data": {
      "text/plain": [
       "0.6657168008048291"
      ]
     },
     "execution_count": 123,
     "metadata": {},
     "output_type": "execute_result"
    }
   ],
   "source": [
    "cv_results_knn = cross_val_score(estimator=gs_pipe_knn.best_estimator_,\n",
    "                                 X=data_desc_test,\n",
    "                                 y=data_target_test, \n",
    "                                 cv=cv_method_ttest,\n",
    "                                 n_jobs=-2,\n",
    "                                 scoring='roc_auc')\n",
    "cv_results_knn.mean()"
   ]
  },
  {
   "cell_type": "code",
   "execution_count": 124,
   "id": "e09c10d2",
   "metadata": {},
   "outputs": [
    {
     "data": {
      "text/plain": [
       "0.6423639271526596"
      ]
     },
     "execution_count": 124,
     "metadata": {},
     "output_type": "execute_result"
    }
   ],
   "source": [
    "cv_results_dt = cross_val_score(estimator=gs_pipe_dt.best_estimator_,\n",
    "                                X=data_desc_test,\n",
    "                                y=data_target_test, \n",
    "                                cv=cv_method_ttest, \n",
    "                                n_jobs=-2,\n",
    "                                scoring='roc_auc')\n",
    "cv_results_dt.mean()"
   ]
  },
  {
   "cell_type": "markdown",
   "id": "b82ab7bd",
   "metadata": {},
   "source": [
    "###### Paired t-test"
   ]
  },
  {
   "cell_type": "code",
   "execution_count": 125,
   "id": "c49abab4",
   "metadata": {},
   "outputs": [
    {
     "name": "stdout",
     "output_type": "stream",
     "text": [
      "TtestResult(statistic=-0.04777272647204846, pvalue=0.9629406909351914, df=9)\n",
      "TtestResult(statistic=3.015615156076512, pvalue=0.014582547726066944, df=9)\n",
      "TtestResult(statistic=0.6485585526643459, pvalue=0.5328206655367269, df=9)\n",
      "TtestResult(statistic=1.9273169593840058, pvalue=0.08604177025576726, df=9)\n",
      "TtestResult(statistic=2.985312974853828, pvalue=0.015316951601139195, df=9)\n",
      "TtestResult(statistic=0.6393208926086447, pvalue=0.5385440341511305, df=9)\n",
      "TtestResult(statistic=1.8784958948851422, pvalue=0.0930293395296218, df=9)\n",
      "TtestResult(statistic=-4.15046828504616, pvalue=0.002482652947065516, df=9)\n",
      "TtestResult(statistic=-2.8326501653063776, pvalue=0.019637284006260657, df=9)\n",
      "TtestResult(statistic=1.0389001618129168, pvalue=0.325955694902426, df=9)\n"
     ]
    }
   ],
   "source": [
    "from scipy import stats\n",
    "print(stats.ttest_rel(cv_results_rfc, cv_results_NB))\n",
    "print(stats.ttest_rel(cv_results_rfc, cv_results_svm))\n",
    "print(stats.ttest_rel(cv_results_rfc, cv_results_knn))\n",
    "print(stats.ttest_rel(cv_results_rfc, cv_results_dt))\n",
    "print(stats.ttest_rel(cv_results_NB, cv_results_svm))\n",
    "print(stats.ttest_rel(cv_results_NB, cv_results_knn))\n",
    "print(stats.ttest_rel(cv_results_NB, cv_results_dt))\n",
    "print(stats.ttest_rel(cv_results_svm, cv_results_knn))\n",
    "print(stats.ttest_rel(cv_results_svm, cv_results_dt))\n",
    "print(stats.ttest_rel(cv_results_knn, cv_results_dt))"
   ]
  },
  {
   "cell_type": "markdown",
   "id": "4429c795",
   "metadata": {},
   "source": [
    "We know that, when a **p-value is smaller than 0.05,at 95% significance level it indicates the model is statistically significant**. From the above results, we can observe that the difference between *__RFC/SVM, NB/SVM, SVM/KNN and SVM/DT__* pairs are statistically significant as the p-values are smaller than 0.05 at 95% significance level for the pairs of the models listed. Hence, we conclude that, *__at a 95% significance level, SVM is statistically the best model in terms of AUC__* when compared on the test data in this scenario (though this is subjected to change upon subsequent runs)."
   ]
  },
  {
   "cell_type": "markdown",
   "id": "93f5afa3",
   "metadata": {},
   "source": [
    "## Critique & Limitations <a id='limitations'></a>"
   ]
  },
  {
   "cell_type": "markdown",
   "id": "44173e57",
   "metadata": {},
   "source": [
    "The quality and representativeness of the dataset has a significant impact on the model's performance. The dataset's bias, incompleteness or lack of key properties could result in unreliable predictions and restrict the models' capacity to be generalized.  For feature selection, the method used is Random Forest Importance. The true underlying correlations between features and the target variable may not always be captured by this technique, despite the fact that it can offer insights into feature relevance. To validate the choice, alternative feature selection techniques like F1-classification or Mutual Information could be performed. Using grid search or randomized search, the hyper parameters of the classifiers and neural networks were adjusted. Even while this aids in discovering better hyper parameter configurations, it is still possible to overlook the ideal parameter pairings. Using a Paired T-test, the research compared the models based on AUC. Even while this sheds some light on how the models compare, it's vital to also take other evaluation metrics into account. We have also used cross-validation to assess the models.\n",
    "\n",
    "**Strengths:** The project adopted a systematic methodology that included feature selection, model training, and evaluation. This methodical approach guarantees a thorough study and aids in addressing different facets of the issue. The project offers a comparison of various predictive modeling techniques by testing five different classifiers and neural networks. This makes it possible to choose the model that best addresses the situation at hand by providing a deeper knowledge of the benefits and drawbacks of each model. In order to improve the performance of the models, the project used hyper parameter tuning. This procedure aids in optimizing the models' configurations and improving their predictive power.\n",
    "\n",
    "**Weakness:** The selection of features, interpretation of the model, and detection of potential biases or restrictions in the dataset can all be considerably aided by domain expertise. The dataset's source, manner of collection, and potential biases were not fully disclosed by the study. Drawing relevant inferences and evaluating the model's dependability require an understanding of the dataset's properties and constraints. While the study used a variety of indicators to assess the models, it did not go into detail to examine errors or incorrect classifications. Investigating the different model faults and their possible effects could offer insightful information for future development. The project was aware that the results might not apply to different datasets. This drawback emphasizes the need for additional study and dataset validation to make sure the models are reliable and useful in real-world situations.\n",
    "\n",
    "Overall, there are certain restrictions to take into account, such as dataset constraints, feature selection strategies, even if our research follows a methodological approach and investigates different models. The dependability and generalizability of the models can be improved by addressing these constraints and incorporating domain expertise."
   ]
  },
  {
   "cell_type": "markdown",
   "id": "3d2bc8d0",
   "metadata": {},
   "source": [
    "## Summary & Conclusions <a id='Summary-and-Conclusion'></a>"
   ]
  },
  {
   "cell_type": "markdown",
   "id": "720f5d8f",
   "metadata": {},
   "source": [
    "### Project Summary <a id='project-summary'></a>"
   ]
  },
  {
   "cell_type": "markdown",
   "id": "12c2abee",
   "metadata": {},
   "source": [
    "The project aimed to predict the probability of an individual being affected by a heart stroke using a dataset on heart disease. The dataset contained **16 features** and **4238 observations**. In Phase 1, data preprocessing was performed, including type conversions and imputation of missing values. Exploratory data analysis was conducted to understand the correlation between features. In Phase 2, we have converted the categorical variables with two values into 0 or 1 using **one hot encoding** and after that we have scaled the data using **MinMaxScaler()**. Feature selection was performed using **Random Forest Importance** and we got top **10 features** to be used for our modelling. We have used five classification models **(Random Forest, Gaussian Naive Bayes, Support Vector Machine, K-Nearest Neighbor, and Decision Tree)** for predictive modeling.  We have used **pipeline method**  and **hyper parameter tuning** was conducted for each classifier using **grid search** or **randomized search** before fitting the trained dataset to the model. The models were evaluated using **accuracy, area under the curve (AUC)**, and other metrics derived from the **confusion matrix** to determine the performance of each model. Neural network analysis has been performed and five different hyper tuned models were evaluated based on their **accuracy score** and **ROC**. Finally to compare each classification models we have performed **StratifiedKFold cross-validation** with 10 folds and runs with same seed and performed **Paired T-test** in terms of **AUC (Area Under Curve)** for each pair of tuned classifiers to determine the classifiers that have **p value smaller than 0.05** which indicates the model is **statistically significant** and can be used to predict our problem."
   ]
  },
  {
   "cell_type": "markdown",
   "id": "5d30d219",
   "metadata": {},
   "source": [
    "### Summary of Findings <a id='summary-findings'></a>"
   ]
  },
  {
   "cell_type": "markdown",
   "id": "8aa69016",
   "metadata": {},
   "source": [
    "**Random Forest:** **0.86 mean accuracy score** have been achieved for **10 selected features** with **min_samples_samples** as **20** and max depth as **10.0**. It is found that **accuracy score varies** as max_depth and min_samples_split changes when explored with different hyper parameter combinations.\n",
    "\n",
    "**Gaussian Naive Bayes:** **0.85 mean accuracy score** have been achieved for **10 selected features** with **var smoothing value is 0.9**. It is found that we achieve **higher accuracy** when var smoothing value is 0.9.\n",
    "\n",
    "**Support Vector Machine:** **0.85 mean accuracy score** have been achieved for **10 selected features** with **C value** as **1** and **kernel** as **linear**. It is found that the **accuracy score varies** with respect to the type of kernel while C value increases.\n",
    "\n",
    "**K-Nearest Neighbor:** **0.85 mean accuracy score** have been achieved for **10 selected features** with **p value** as **2** and **10 neighbors**. It is found that we can achieve **higher accuracy** when p value is 2.0 and number of neighbors is 10.\n",
    "\n",
    "**Decision Tree:** **0.85 mean accuracy score** have been achieved for **10 selected features** with **min_samples_samples** as **4** and **max_depth value** as **3.0**. It is found that the **accuracy score varies** when max_depth and min_samples_split changes.\n",
    "\n",
    "\n",
    "**Neural Networks:**\n",
    "\n",
    "**Model:** The model have been designed with tuning parameters as **hidden layer units** as **3**, **loss='binary_crossentropy'**, **input and output activation layers='relu'** and **'sigmoid'** respectively, **optimizer='SGD'**. We have achieved **0.865 accuracy score** and **0.500 ROC score**.\n",
    "\n",
    "**Hyper Parameter Tuned Model 1:** The model have been designed with tuning parameters as **hidden layer units** as **3**, **loss='binary_crossentropy'**, **input and output activation layers='tanh'** and **'sigmoid'** respectively, **optimizer='SGD’**. We have achieved **0.865 accuracy score** and **0.500 ROC score**.\n",
    "\n",
    "**Hyper Parameter Tuned Model 2:** The model have been designed with tuning parameters as **hidden layer units** as **'3'**, **loss** as **'categorical_crossentropy'**, **input and output activation layers='relu'** and **'sigmoid'** respectively. We have achieved **0.135 accuracy score** and **0.500 ROC score**.\n",
    "\n",
    "**Hyper Parameter Tuned Model 3:** The model have been designed with tuning parameters as **loss='binary_crossentropy'**, **input and output activation layers** as **'tanh'**, **'sigmoid'** respectively, **optimizer is 'Adam'**. We have achieved **0.733 accuracy score** and **0.454 ROC score**.\n",
    "\n",
    "**Hyper Parameter Tuned Model 4:** The model have been designed with tuning parameters for **input and output activation layers='elu'** and **'sigmoid'** respectively, **optimizer** as **'Adadelta'**. We have achieved **0.865 accuracy score** and **0.500 ROC score**.\n",
    "\n",
    "**Hyper Parameter Tuned Model 5:** The model have been designed with tuning parameters as **optimizer** as **'Adadelta'**, **loss** as **'binary_crossentropy'**, **input activation layers** as **'tanh'**. We have achieved **0.865 accuracy score** and **0.500 ROC score**.\n",
    "\n",
    "\n",
    "**Model Comparison:** \n",
    "\n",
    "We have performed **StratifiedKFold** with 10 splits without any repetition on each classifiers with same seed in all cross-validation runs and performed **Paired t-test** in terms of **AUC(Area Under Curve)** and found **RFC/SVM, NB/SVM, SVM/KNN** and **SVM/DT** pairs are **statistically significant** as the **p-values** are smaller than **0.05**."
   ]
  },
  {
   "cell_type": "markdown",
   "id": "ab0e8a27",
   "metadata": {},
   "source": [
    "### Conclusions <a id='conclusions'></a>"
   ]
  },
  {
   "cell_type": "markdown",
   "id": "bbf02057",
   "metadata": {},
   "source": [
    "For the given dataset, our goal of predicting the heart stroke has been achieved using five different classifiers and based on the evaluation results using **Paired t-test** in terms of **AUC(Area Under Curve)**, we could say that **Support Vector Machine** is **more statistically significant** when compared to other other classifiers as it has the **p value** smaller than **0.05** and the other classifiers have p values greater than 0.05 which is statistically not significant. It is important to note that these findings are specific to the given dataset and may not generalize to other datasets. Further research and validations are recommended to confirm the performance of the selected models."
   ]
  },
  {
   "cell_type": "markdown",
   "id": "a9d19d0c",
   "metadata": {},
   "source": [
    "## References <a id='References'></a>"
   ]
  },
  {
   "cell_type": "markdown",
   "id": "f238071d",
   "metadata": {},
   "source": [
    "- Mirza_Hasnine. (2023, March 11). Heart disease dataset. Kaggle. Retrieved April 5, 2023, from https://www.kaggle.com/datasets/mirzahasnine/heart-disease-dataset\n",
    "- Case study: Predicting income status. www.featureranking.com. (2022a, February 27). https://www.featureranking.com/tutorials/machine-learning-tutorials/case-study-predicting-income-status/ \n",
    "- SK part 7: Neural networks: A simple case study. (2022). Retrieved from https://www.featureranking.com/tutorials/machine-learning-tutorials/sk-part-7-neural-networks-simple-case-study/"
   ]
  }
 ],
 "metadata": {
  "kernelspec": {
   "display_name": "Python 3",
   "language": "python",
   "name": "python3"
  },
  "language_info": {
   "codemirror_mode": {
    "name": "ipython",
    "version": 3
   },
   "file_extension": ".py",
   "mimetype": "text/x-python",
   "name": "python",
   "nbconvert_exporter": "python",
   "pygments_lexer": "ipython3",
   "version": "3.8.8"
  }
 },
 "nbformat": 4,
 "nbformat_minor": 5
}
